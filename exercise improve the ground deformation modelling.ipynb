{
 "cells": [
  {
   "cell_type": "markdown",
   "id": "8027416a",
   "metadata": {
    "slideshow": {
     "slide_type": "slide"
    }
   },
   "source": [
    "#### <center> <img src=\"figures/logo.png\" width=\"300\"/>  </center>\n",
    "\n",
    "# <center>  the ground deformation modelling   </center>\n",
    "\n",
    "\n",
    "<p style=\"text-align: center;\"><b><i>hands on very basic modelling for volcanoes</i></b></p>\n",
    "\n",
    "\n",
    "<p style=\"text-align: center;\"><b><i>by flavio cannavò </i></b> <a href= \"mailto:flavio.cannavo@ingv.it\">flavio.cannavo@ingv.it</a></p>\n",
    "\n",
    "<p style=\"text-align: center;\"><small>24 July 2023, Nicolosi, Italy</small></p>\n",
    "\n",
    " <center> <img src=\"figures/ingv.png\" width=\"100\"/>  </center>\n",
    "\n"
   ]
  },
  {
   "cell_type": "markdown",
   "id": "e39ae6ab",
   "metadata": {
    "slideshow": {
     "slide_type": "slide"
    }
   },
   "source": [
    "<h1><strong>Spherical Source</strong>&nbsp;to model inflation and deflation causative body</h1>\n",
    "\n",
    "We consider a spherical cavity of radius *a*, with center at depth *d* in a uniform half-space subjected to uniform internal pressure *p*.\n",
    "\n",
    "\n",
    "The problem geometry.\n",
    "<div> <img src=\"figures/Mogi1_.png\" width=\"500\"/> </div>\n",
    "\n",
    "\n",
    "2 coordinate systems: \n",
    "\n",
    " 1. spherical with origin at the center of the spherical cavity (*R* radial distance)\n",
    " 2. cylindrical centered above the chamber (*r* radial distance from the center at the surface)\n",
    "\n",
    "Boundary conditions:\n",
    "$$\n",
    "\\begin{aligned}\n",
    "\\sigma_{i3}=0  && on && x_3=0 \\\\\n",
    "\\sigma_{rr}=-p  && on && r=a  \\\\\n",
    "\\sigma_{r\\theta}=\\sigma_{r\\phi}=0  && on && r=a \\\\\n",
    "\\end{aligned}\n",
    "$$\n",
    "\n",
    "*(i.e. traction free at the surface; radial stress uniform pressure on chamber walls where the shear tractions vanish)*\n",
    "\n"
   ]
  },
  {
   "cell_type": "markdown",
   "id": "984ddd62",
   "metadata": {
    "slideshow": {
     "slide_type": "slide"
    }
   },
   "source": [
    "Boundary conditions:\n",
    "$$\n",
    "\\begin{aligned}\n",
    "\\sigma_{i3}=0  && on && x_3=0 \\\\\n",
    "\\sigma_{rr}=-p  && on && r=a  \\\\\n",
    "\\sigma_{r\\theta}=\\sigma_{r\\phi}=0  && on && r=a \\\\\n",
    "\\end{aligned}\n",
    "$$\n",
    "\n",
    "<p>The first step is to solve the problem in a <strong>full-space</strong>, with <em>radial symmetry</em>, when the stress equilibrium reduces to:</p>\n",
    "\n",
    "$$\n",
    "\\frac{\\partial \\sigma_{rr}}{\\partial r}+\\frac{1}{r}(2\\sigma _{rr}-\\sigma_{\\theta\\theta}-\\sigma_{\\phi\\phi}) = 0\n",
    "$$\n",
    "\n",
    "\n",
    "<p style=\"text-align: center;\"><span style=\"color:#e74c3c\">... developing in a few simple steps ... </span></p>\n",
    "\n"
   ]
  },
  {
   "cell_type": "markdown",
   "id": "624c4e6a",
   "metadata": {
    "slideshow": {
     "slide_type": "fragment"
    }
   },
   "source": [
    "<p style=\"text-align: center;\"><span style=\"color:#e74c3c\"> Kidding! The solution is far from trivial ... for another kind of class ... </span></p>\n",
    "\n",
    "For a point source approximation meaning $ a \\ll d $ (in practice, approximation is good for $a < 0.5d$), we obtain the predicted deformation field at the surface (<span style=\"color:#3498db\">Mogi, 1958</span>):\n",
    "\n",
    "$$\n",
    "\\begin{aligned}\n",
    "u_r = \\frac{(1-\\nu)\\Delta P a^3}{G} \\frac{r}{(r^2+d^2)^{3/2}} \\\\\n",
    "u_z = \\frac{(1-\\nu)\\Delta P a^3}{G} \\frac{d}{(r^2+d^2)^{3/2}} \\\\\n",
    "\\end{aligned}\n",
    "$$\n",
    "\n",
    "where ΔP is source overpressure (*p*), ν Poisson's ratio and G shear modulus.\n",
    "\n",
    "The volume change ΔV is given by the integral of the radial displacement over the surface of the cavity. If the cavity radius is small compared to the depth of burial it can be approximated as:\n",
    "\n",
    "$$\n",
    "\\Delta V \\approx \\pi \\Delta P a^3 /G\n",
    "$$\n",
    "\n",
    "Thus the another formulation is:\n",
    "\n",
    "$$\n",
    "\\begin{aligned}\n",
    "u_r = \\frac{(1-\\nu)\\Delta V}{\\pi} \\frac{r}{(r^2+d^2)^{3/2}} \\\\\n",
    "u_z = \\frac{(1-\\nu)\\Delta V}{\\pi} \\frac{d}{(r^2+d^2)^{3/2}} \\\\\n",
    "\\end{aligned}\n",
    "$$\n",
    "\n",
    "\n",
    "\n",
    "\n",
    "🗒<span style=\"color:#4e5f70\">Notes: \n",
    "    <ol>\n",
    "\t<li>the deformation is proportional to the volume/pressure change;</li>\n",
    "\t<li>magnitude of (3D) displacement vector decreases&nbsp; as 1/distance from source</li>\n",
    "\t<li>there is an ambiguity between &Delta;P and *a* that does not allow them to be derived independently;</li>\n",
    "\t<li>&Delta;V cannot exactly equate to change in mass because of compressibility of magma.</li>\n",
    "</ol></span>"
   ]
  },
  {
   "cell_type": "markdown",
   "id": "b8c34cef",
   "metadata": {
    "slideshow": {
     "slide_type": "slide"
    }
   },
   "source": [
    "# learning by doing\n",
    "\n",
    "Let's start by importing standard python libraries"
   ]
  },
  {
   "cell_type": "code",
   "execution_count": null,
   "id": "f7b45777",
   "metadata": {
    "scrolled": false,
    "slideshow": {
     "slide_type": "fragment"
    }
   },
   "outputs": [],
   "source": [
    "# import standard libraries for computation and plotting\n",
    "import numpy as np\n",
    "import pandas as pd\n",
    "import matplotlib.pyplot as plt\n",
    "import random\n",
    "np.random.seed(240723)\n",
    "\n",
    "# Set notebook mode to work in offline\n",
    "import plotly.offline as pyo\n",
    "import plotly.io as pio\n",
    "pyo.init_notebook_mode()\n",
    "pio.renderers.default = 'notebook'\n",
    "import plotly.graph_objects as go\n",
    "\n",
    "from scipy.optimize import minimize, direct\n",
    "from collections import OrderedDict\n",
    "from improve import plot3Dfield"
   ]
  },
  {
   "cell_type": "markdown",
   "id": "66b46419",
   "metadata": {
    "slideshow": {
     "slide_type": "subslide"
    }
   },
   "source": [
    "Let's implement the point source reformulating it in a Cartesian coordinate system \n",
    "\n",
    "<p style=\"text-align: center;\"><i>(x=easting, y=northing, d=depth positive downwards):</i></p>\n",
    "\n",
    "\n",
    "<table align=\"center\" border=\"0\" cellpadding=\"1\" cellspacing=\"1\" >\n",
    "\t<tbody>\n",
    "\t\t<tr>\n",
    "\t\t\t<td>\n",
    "$$\n",
    "\\begin{aligned}\n",
    "u_x = \\frac{(1-\\nu)\\Delta V}{\\pi} \\frac{x}{(x^2+y^2+d^2)^{3/2}} \\\\\n",
    "u_y = \\frac{(1-\\nu)\\Delta V}{\\pi} \\frac{y}{(x^2+y^2+d^2)^{3/2}} \\\\\n",
    "u_z = \\frac{(1-\\nu)\\Delta V}{\\pi} \\frac{d}{(x^2+y^2+d^2)^{3/2}} \\\\\n",
    "\\end{aligned}\n",
    "$$</td>\n",
    "\t\t\t<td> \n",
    "            &nbsp; &nbsp; &nbsp; &nbsp; &nbsp; &nbsp; &nbsp; &nbsp;\n",
    "            </td>\n",
    "\t\t\t<td>\n",
    "$$\n",
    "\\begin{aligned}\n",
    "u_x = \\frac{(1-\\nu)\\Delta P a^3}{G} \\frac{x}{(x^2+y^2+d^2)^{3/2}} \\\\\n",
    "u_y = \\frac{(1-\\nu)\\Delta P a^3}{G} \\frac{y}{(x^2+y^2+d^2)^{3/2}} \\\\\n",
    "u_z = \\frac{(1-\\nu)\\Delta P a^3}{G} \\frac{d}{(x^2+y^2+d^2)^{3/2}} \\\\\n",
    "\\end{aligned}\n",
    "$$</td>\n",
    "\t\t</tr>\n",
    "\t</tbody>\n",
    "</table>\n",
    "\n",
    "\n"
   ]
  },
  {
   "cell_type": "code",
   "execution_count": null,
   "id": "3d98bb1e",
   "metadata": {
    "scrolled": false,
    "slideshow": {
     "slide_type": "fragment"
    }
   },
   "outputs": [],
   "source": [
    "def pointsource(x, y, xs, ys, d, dV=None, nu=0.25, G=30e9, a=None, dP=None):\n",
    "    \"\"\"\n",
    "    Calculates surface deformation based on point source\n",
    "    References: Mogi 1958\n",
    "    Implement both formulations: dV or dP\n",
    "\n",
    "    Args:\n",
    "    ------------------\n",
    "    x: x-coordinate grid (m)\n",
    "    y: y-coordinate grid (m)\n",
    "    xs: x point source epicenter (m)\n",
    "    ys: y point source epicenter (m)\n",
    "    d: depth to point (m)\n",
    "    \n",
    "    dV: change in volume (m^3)\n",
    "    a: source radius (m) must be << d\n",
    "    G: shear modulus (Pa)\n",
    "    dP: excess pressure of the source (Pa)\n",
    "        nu: poisson's ratio for medium\n",
    "    \n",
    "    Returns:\n",
    "    -------\n",
    "    deformation at surface (ux, uy, uz)\n",
    "    \"\"\"\n",
    "    \n",
    "    # Center coordinate grid on point source\n",
    "    dx = x - xs\n",
    "    dy = y - ys\n",
    "    dz = d\n",
    "    \n",
    "    R2 = dx*dx + dy*dy + dz*dz\n",
    "    \n",
    "    # choose the formulation based on the valid parameter dP or dV\n",
    "    if dP is None and dV is not None:\n",
    "            c = ((1-nu) / np.pi) * dV            \n",
    "    elif dP is not None and dV is None:\n",
    "            c = a*a*a*dP*(1-nu)/G            \n",
    "    else:\n",
    "            c = None # ambiguous parameters\n",
    "                        \n",
    "    C = c / pow(R2, 1.5)\n",
    "    \n",
    "    return np.array([C*dx,C*dy,C*dz])"
   ]
  },
  {
   "cell_type": "markdown",
   "id": "f530c824",
   "metadata": {
    "slideshow": {
     "slide_type": "subslide"
    }
   },
   "source": [
    "<p>Now that we have a <u>mathematical model </u>that can describe a <u>ground deformation field </u>given some <u>source parameters,</u> <strong>let&#39;s play with it!</strong></p>"
   ]
  },
  {
   "cell_type": "code",
   "execution_count": null,
   "id": "889dfb28",
   "metadata": {
    "scrolled": false,
    "slideshow": {
     "slide_type": "fragment"
    }
   },
   "outputs": [],
   "source": [
    "# set model parameters (4 for a volumetric point source), located about @Etna\n",
    "\n",
    "xs = 495000      #m UTM horizontal location\n",
    "ys = 4180000     #m UTM horizontal location\n",
    "d = 2000         #m depth b.s.l.\n",
    "dV = 3e6         #m^3 \n",
    "\n",
    "# create a range of coordinates at step 100 m around the source where to probe the deformation field\n",
    "edgesemilength = 8000\n",
    "stepgrid = 100 # m\n",
    "xsteps = np.linspace(xs-edgesemilength, xs+edgesemilength, int(2*edgesemilength/stepgrid))\n",
    "ysteps = np.linspace(ys-edgesemilength, ys+edgesemilength, int(2*edgesemilength/stepgrid))"
   ]
  },
  {
   "cell_type": "markdown",
   "id": "dec6a3aa",
   "metadata": {
    "slideshow": {
     "slide_type": "subslide"
    }
   },
   "source": [
    "\n",
    "\n",
    "\n",
    "Use the direct model of point source to calculate the predicted deformation field\n"
   ]
  },
  {
   "cell_type": "code",
   "execution_count": null,
   "id": "ec276973",
   "metadata": {
    "scrolled": false,
    "slideshow": {
     "slide_type": "subslide"
    }
   },
   "outputs": [],
   "source": [
    "# create the mesh based on these arrays\n",
    "eastings, northings = np.meshgrid(xsteps, ysteps)\n",
    "\n",
    "# set some source parameters (PLAY WITH THEM!!)\n",
    "params = OrderedDict([('xs',xs),\n",
    "            ('ys',ys),\n",
    "            ('d', 1000), #m\n",
    "            ('dV', 3e6), #m^3\n",
    "            ])\n",
    "\n",
    "# call the direct model of point source to calculate the predicted deformation at the probing points\n",
    "ux,uy,uz = pointsource(eastings, northings, **params)\n",
    "\n",
    "# Create four axes and access them through the returned array\n",
    "fig, axs = plt.subplots(2, 2, figsize=(13, 11))\n",
    "\n",
    "# east component\n",
    "c = axs[0, 0].pcolormesh(eastings/1000, northings/1000, ux, cmap='RdBu_r', vmin=np.min(ux), vmax=np.max(ux))\n",
    "axs[0, 0].set_title('x-component')\n",
    "clb = fig.colorbar(c, ax=axs[0, 0])\n",
    "clb.ax.set_title('m')\n",
    "\n",
    "# north component\n",
    "c = axs[0, 1].pcolormesh(eastings/1000, northings/1000, uy, cmap='RdBu_r', vmin=np.min(ux), vmax=np.max(ux))\n",
    "axs[0, 1].set_title('y-component')\n",
    "clb = fig.colorbar(c, ax=axs[0, 1])\n",
    "clb.ax.set_title('m')\n",
    "\n",
    "# vertical component\n",
    "c = axs[1, 0].pcolormesh(eastings/1000, northings/1000, uz, cmap='inferno', vmin=np.min(uz), vmax=np.max(uz))\n",
    "axs[1, 0].set_title('z-component')\n",
    "clb = fig.colorbar(c, ax=axs[1, 0])\n",
    "clb.ax.set_title('m')\n",
    "\n",
    "# total deformation\n",
    "c = axs[1, 1].pcolormesh(eastings/1000, northings/1000, np.sqrt(ux**2 + uy**2 + uz**2), cmap='inferno', \n",
    "                                                                            vmin=np.min(uz), vmax=np.max(uz))\n",
    "axs[1, 1].set_title('total')\n",
    "clb = fig.colorbar(c, ax=axs[1, 1])\n",
    "clb.ax.set_title('m')\n",
    "\n",
    "plt.show()"
   ]
  },
  {
   "cell_type": "markdown",
   "id": "37eb1ef1",
   "metadata": {
    "slideshow": {
     "slide_type": "subslide"
    }
   },
   "source": [
    "Now let us take a closer look at the predicted deformation along a line"
   ]
  },
  {
   "cell_type": "code",
   "execution_count": null,
   "id": "f4b7b032",
   "metadata": {
    "scrolled": false,
    "slideshow": {
     "slide_type": "subslide"
    }
   },
   "outputs": [],
   "source": [
    "# create the list of source parameters\n",
    "params = OrderedDict([('xs',xs),\n",
    "            ('ys',ys),\n",
    "            ('d', d), #m\n",
    "            ('dV', dV), #m^3\n",
    "            ])\n",
    "\n",
    "# call the direct model of point source to calculate the predicted deformation at the probing points\n",
    "ux,uy,uz = pointsource(xsteps, ys, **params)\n",
    "\n",
    "# plot results\n",
    "fig = go.Figure()\n",
    "\n",
    "# source position\n",
    "fig.add_vline( x = xs)\n",
    "\n",
    "fig.add_trace(go.Scatter(x=xsteps, y=ux, name=\"dx [East]\" ))\n",
    "\n",
    "fig.add_trace(go.Scatter(x=xsteps, y=uy, name=\"dy [North]\" ))\n",
    "\n",
    "fig.add_trace(go.Scatter(x=xsteps, y=uz, name=\"dz [Vertical]\" ))\n",
    "\n",
    "fig.update_layout(\n",
    "    title=\"Mogi Point Source Predicted Displacement\",\n",
    "    xaxis_title=\"Easting [m]\",\n",
    "    yaxis_title=\"displacement [m]\",\n",
    "    legend_title=\"component\",\n",
    "    font=dict(\n",
    "        family=\"Courier New, monospace\",\n",
    "        size=18,\n",
    "        color=\"RebeccaPurple\"\n",
    "    )\n",
    ")\n",
    "\n",
    "fig.show()"
   ]
  },
  {
   "cell_type": "markdown",
   "id": "cc780f99",
   "metadata": {
    "slideshow": {
     "slide_type": "slide"
    }
   },
   "source": [
    "Now let's try to see how the deformation field changes as the depth changes."
   ]
  },
  {
   "cell_type": "code",
   "execution_count": null,
   "id": "297fb905",
   "metadata": {
    "scrolled": false,
    "slideshow": {
     "slide_type": "fragment"
    }
   },
   "outputs": [],
   "source": [
    "# create the mesh based on these arrays\n",
    "eastings, northings = np.meshgrid(xsteps, ysteps)\n",
    "\n",
    "# iterate for different depths\n",
    "for d in [500, 1000, 2000, 5000]:\n",
    "    params = OrderedDict([('xs',xs),\n",
    "                ('ys',ys),\n",
    "                ('d', d), #m\n",
    "                ('dV', 3e6), #m^3\n",
    "                ])\n",
    "\n",
    "    # call the direct model of point source to calculate the predicted deformation at the probing points\n",
    "    ux,uy,uz = pointsource(eastings, northings, **params)\n",
    "\n",
    "    # Create four polar axes and access them through the returned array\n",
    "    fig, axs = plt.subplots(2, 2, figsize=(9, 8))\n",
    "\n",
    "    fig.suptitle(f'depth {d} m', fontsize=16)\n",
    "    # east component\n",
    "    c = axs[0, 0].pcolormesh(eastings/1000, northings/1000, ux, cmap='RdBu_r', vmin=np.min(ux), vmax=np.max(ux))\n",
    "    axs[0, 0].set_title('x-component')\n",
    "    clb = fig.colorbar(c, ax=axs[0, 0])\n",
    "    clb.ax.set_title('m')\n",
    "\n",
    "    # north component\n",
    "    c = axs[0, 1].pcolormesh(eastings/1000, northings/1000, uy, cmap='RdBu_r', vmin=np.min(ux), vmax=np.max(ux))\n",
    "    axs[0, 1].set_title('y-component')\n",
    "    clb = fig.colorbar(c, ax=axs[0, 1])\n",
    "    clb.ax.set_title('m')\n",
    "\n",
    "    # vertical component\n",
    "    c = axs[1, 0].pcolormesh(eastings/1000, northings/1000, uz, cmap='viridis', vmin=np.min(uz), vmax=np.max(uz))\n",
    "    axs[1, 0].set_title('z-component')\n",
    "    clb = fig.colorbar(c, ax=axs[1, 0])\n",
    "    clb.ax.set_title('m')\n",
    "\n",
    "    # total deformation\n",
    "    c = axs[1, 1].pcolormesh(eastings/1000, northings/1000, np.sqrt(ux**2 + uy**2 + uz**2), cmap='viridis', \n",
    "                                                                                vmin=np.min(uz), vmax=np.max(uz))\n",
    "    axs[1, 1].set_title('total')\n",
    "    clb = fig.colorbar(c, ax=axs[1, 1])\n",
    "    clb.ax.set_title('m')\n",
    "\n",
    "    plt.show()"
   ]
  },
  {
   "cell_type": "markdown",
   "id": "31250831",
   "metadata": {
    "slideshow": {
     "slide_type": "slide"
    }
   },
   "source": [
    "## Violating the  $ a \\ll d $ assumption!\n",
    "\n",
    "\n",
    "We have said that the model is an approximation and the assumption we have made is to assume a depth much greater than the radius of the sphere.\n",
    "\n",
    "Now let us try to violate this assumption and we will see that the deformation field is entirely realistic. So can we accept it? \n",
    "You will have the answer in the afternoon.\n",
    "\n",
    "\n",
    "\n"
   ]
  },
  {
   "cell_type": "code",
   "execution_count": null,
   "id": "e60d33cb",
   "metadata": {
    "scrolled": false,
    "slideshow": {
     "slide_type": "subslide"
    }
   },
   "outputs": [],
   "source": [
    "# create the mesh based on these arrays\n",
    "eastings, northings = np.meshgrid(xsteps, ysteps)\n",
    "\n",
    "# now use the point source versione with dP and the formula that links dP to dV\n",
    "params = OrderedDict([('xs',xs),\n",
    "            ('ys',ys),\n",
    "            ('d', 500), #m\n",
    "            ('a', 500), #m\n",
    "                   #dV   G           a  \n",
    "            ('dP', 3e6*3e10/(np.pi*(500**3)))\n",
    "            ])\n",
    "\n",
    "# call the direct model of point source to calculate the predicted deformation at the probing points\n",
    "ux,uy,uz = pointsource(eastings, northings, **params)\n",
    "\n",
    "# Create four polar axes and access them through the returned array\n",
    "fig, axs = plt.subplots(2, 2, figsize=(13, 11))\n",
    "\n",
    "# east component\n",
    "c = axs[0, 0].pcolormesh(eastings/1000, northings/1000, ux, cmap='RdBu_r', vmin=np.min(ux), vmax=np.max(ux))\n",
    "axs[0, 0].set_title('x-component')\n",
    "clb = fig.colorbar(c, ax=axs[0, 0])\n",
    "clb.ax.set_title('m')\n",
    "\n",
    "# north component\n",
    "c = axs[0, 1].pcolormesh(eastings/1000, northings/1000, uy, cmap='RdBu_r', vmin=np.min(ux), vmax=np.max(ux))\n",
    "axs[0, 1].set_title('y-component')\n",
    "clb = fig.colorbar(c, ax=axs[0, 1])\n",
    "clb.ax.set_title('m')\n",
    "\n",
    "# vertical component\n",
    "c = axs[1, 0].pcolormesh(eastings/1000, northings/1000, uz, cmap='viridis', vmin=np.min(uz), vmax=np.max(uz))\n",
    "axs[1, 0].set_title('z-component')\n",
    "clb = fig.colorbar(c, ax=axs[1, 0])\n",
    "clb.ax.set_title('m')\n",
    "\n",
    "# total deformation\n",
    "c = axs[1, 1].pcolormesh(eastings/1000, northings/1000, np.sqrt(ux**2 + uy**2 + uz**2), cmap='viridis', \n",
    "                                                                            vmin=np.min(uz), vmax=np.max(uz))\n",
    "axs[1, 1].set_title('total')\n",
    "clb = fig.colorbar(c, ax=axs[1, 1])\n",
    "clb.ax.set_title('m')\n",
    "\n",
    "plt.show()"
   ]
  },
  {
   "cell_type": "markdown",
   "id": "3ff22c9a",
   "metadata": {
    "slideshow": {
     "slide_type": "slide"
    }
   },
   "source": [
    "# Deformation field seen by GNSS sensors\n",
    "\n",
    "We have seen that a deformation field can be measured using GNSS sensors that return the 3 components of the field. East-West, North-South and vertical deformation.\n",
    "\n",
    "What you see with a GNSS sensor permanently installed at a point is a time series of the position, from which displacements can be derived (in the simplest manner as the difference between two time instants).\n",
    "\n",
    "#### <center> <img src=\"figures/GPSexample.jpg\" width=\"500\"/>  </center>\n"
   ]
  },
  {
   "cell_type": "markdown",
   "id": "0a35355f",
   "metadata": {
    "slideshow": {
     "slide_type": "subslide"
    }
   },
   "source": [
    "\n",
    "\n",
    "The representation of these measurements is a so-called displacement vector indicating the movement of the measurement point.\n",
    "\n",
    "Let's plot a deformation field as seen by GNSS sensors."
   ]
  },
  {
   "cell_type": "code",
   "execution_count": null,
   "id": "9a15cf9c",
   "metadata": {
    "scrolled": false,
    "slideshow": {
     "slide_type": "fragment"
    }
   },
   "outputs": [],
   "source": [
    "# create a range of coordinates at step 2000 m\n",
    "stepgrid = 2000 # m\n",
    "edgesemilength = 8000\n",
    "xsteps = np.linspace(xs-edgesemilength, xs+edgesemilength, int(2*edgesemilength/stepgrid))\n",
    "ysteps = np.linspace(ys-edgesemilength, ys+edgesemilength, int(2*edgesemilength/stepgrid))\n",
    "\n",
    "# create the mesh based on these arrays\n",
    "eastings, northings = np.meshgrid(xsteps, ysteps)\n",
    "\n",
    "# calculate the predicted deformation components\n",
    "ux,uy,uz = pointsource(eastings, northings, **params)"
   ]
  },
  {
   "cell_type": "markdown",
   "id": "e4a30f9f",
   "metadata": {
    "slideshow": {
     "slide_type": "fragment"
    }
   },
   "source": [
    "Plot the 3 components of the deformation field in a 3-D space, sampled in the points of a mesh grid"
   ]
  },
  {
   "cell_type": "code",
   "execution_count": null,
   "id": "2a4666ee",
   "metadata": {
    "scrolled": false,
    "slideshow": {
     "slide_type": "fragment"
    }
   },
   "outputs": [],
   "source": [
    "# call a function to plot a vectorial field in 3D using interactive plotly library\n",
    "fig = plot3Dfield(ux, uy, uz, eastings, northings, arrow_tip_ratio = 0.4,\n",
    "                arrow_starting_ratio = 0.90, scalevertfactor = 30000)\n",
    "\n",
    "print(f'Maximum vector length {np.max(np.linalg.norm([ux.ravel(), uy.ravel(), uz.ravel()], axis=0)):0.3f} m')\n",
    "\n",
    "# Add the point source\n",
    "fig.add_trace(go.Scatter3d(x=[xs], y=[ys], z=[-d],\n",
    "                    mode='markers',\n",
    "                    marker_size=14,\n",
    "                    marker_color='red',\n",
    "                    name='source'))\n",
    "\n",
    "\n",
    "\n",
    "camera = dict(\n",
    "    up=dict(x=0, y=1., z=0),\n",
    "    eye=dict(x=0., y=0., z=1.5)\n",
    ")\n",
    "\n",
    "fig.update_layout(\n",
    "    width=900, height=900, scene_camera=camera, title='Deformation Field'\n",
    ")\n",
    "\n",
    "fig.show()"
   ]
  },
  {
   "cell_type": "markdown",
   "id": "f14d27e1",
   "metadata": {
    "slideshow": {
     "slide_type": "slide"
    }
   },
   "source": [
    "# Topography correction\n",
    "\n",
    "The interaction of a source with the irregular surface is significant only when the burial depth is of the same order as the characteristic horizontal scale of the topography.\n",
    "\n",
    "The planar free surface of an elastic half-space is a poor match to the high relief of volcanic regions.\n",
    "\n",
    "**What distortions are introduced by topography to the deformation from a buried magmatic source?**\n",
    "\n",
    "Topographic relief imparts a slope to the surface and it alters the distance from the surface to the source.  \n",
    "*We have shown that surface deformation varies with some power of the inverse distance from the source*.\n",
    "\n",
    "<div> <center> <img src=\"figures/topocorr.png\" width=\"400\"/> </center> </div>\n",
    "\n",
    "<p>&nbsp;1. The simplest topographic correction consists of an offset of the free surface by a constant amount, which is called the <u><strong>reference elevation</strong></u>. Without constructing a numerical model to test for the optimal reference elevation, <span style=\"color:#2980b9\">Williams and Wadge</span> (<span style=\"color:#2980b9\">2000</span>) provide the following guidelines: use a reference elevation somewhere between the <u><strong>average</strong></u> and the maximum for shallow sources and decrease this value with increasing source depth.<br />\n",
    "&nbsp;</p>\n",
    "\n",
    "<p>&nbsp;2. The <u><strong>varying depth model </strong></u>corrects for the changing distance between the source and the surface by varying the magma chamber depth with topography.</p>\n",
    "\n",
    "<p><br />\n",
    "&nbsp;3. <span style=\"color:#2980b9\">Williams and Wadge</span> (<span style=\"color:#2980b9\">2000</span>) developed the <u><strong>topographically corrected method </strong></u>to include arbitrary topography in elastic half-space source models. The application of this method is complex, requiring free-surface displacements, derivatives, and curvatures for the elastic half-space source model and a decimated DEM.</p>"
   ]
  },
  {
   "cell_type": "markdown",
   "id": "0fb82275",
   "metadata": {
    "slideshow": {
     "slide_type": "subslide"
    }
   },
   "source": [
    "Implement the point source considering the **varying-depth topographic corretion**, thus including the station elevation.\n",
    "For each measurement point the depth of the source will be different."
   ]
  },
  {
   "cell_type": "code",
   "execution_count": null,
   "id": "13988aa0",
   "metadata": {
    "scrolled": false,
    "slideshow": {
     "slide_type": "fragment"
    }
   },
   "outputs": [],
   "source": [
    "    def pointsource3D(x, y, z, xs, ys, d, dV=None, nu=0.25, G=30e9, a=None, dP=None):\n",
    "        \n",
    "        \"\"\"\n",
    "        Calculates surface deformation based on point source with Varying-Depth topography correction\n",
    "        \n",
    "        References: Mogi 1958, Williams and Wadge 2000\n",
    "\n",
    "        Args:\n",
    "        ------------------\n",
    "        x: x-coordinate grid (m)\n",
    "        y: y-coordinate grid (m)\n",
    "        z: z-coordinate grid (m)\n",
    "        xs: x point source epicenter (m)\n",
    "        ys: y point source epicenter (m)\n",
    "        d: depth to point (m)\n",
    "\n",
    "        dV: change in volume (m^3)\n",
    "\n",
    "        nu: poisson's ratio for medium\n",
    "\n",
    "        Returns:\n",
    "        -------\n",
    "        deformation at surface u = [ux, uy, uz]\n",
    "        \"\"\"\n",
    "        \n",
    "         # relative points of measurement\n",
    "            \n",
    "        repoints = np.array([x.reshape(-1), y.reshape(-1), z.reshape(-1)]).T - np.array([xs, ys, -d]) \n",
    "                       \n",
    "        # calculate the distances\n",
    "        R = np.linalg.norm(repoints,axis=1)\n",
    "        \n",
    "        if dP is None and dV is not None:\n",
    "            C = ((1-nu) / np.pi) * dV           \n",
    "        elif dP is not None and dV is None:\n",
    "            C = a*a*a*dP*(1-nu)/G\n",
    "        else:\n",
    "            C = None # ambiguous parameters\n",
    "                        \n",
    "        # Mogi solution\n",
    "        u = np.array([C*p/(Ri**3) for p, Ri in zip(repoints,R)])\n",
    "                    \n",
    "        return u[:,0].reshape(x.shape), u[:,1].reshape(x.shape), u[:,2].reshape(x.shape)\n"
   ]
  },
  {
   "cell_type": "markdown",
   "id": "3c975861",
   "metadata": {
    "slideshow": {
     "slide_type": "fragment"
    }
   },
   "source": [
    "Now, let's consider a fictitious topography, bell-shaped imitating a volcano pattern"
   ]
  },
  {
   "cell_type": "code",
   "execution_count": null,
   "id": "1c500f9c",
   "metadata": {
    "scrolled": false,
    "slideshow": {
     "slide_type": "fragment"
    }
   },
   "outputs": [],
   "source": [
    "# define a bell function that mimics a volcano topography\n",
    "def belltopo(x,y, x0,y0, sigma):\n",
    "    return np.exp(-((x-x0)**2 + (y-y0)**2)/(sigma**2))   \n",
    "    \n",
    "elevations = belltopo(eastings, northings, xs, ys, 6000)*3300 #m"
   ]
  },
  {
   "cell_type": "code",
   "execution_count": null,
   "id": "ca5d4b20",
   "metadata": {
    "scrolled": false,
    "slideshow": {
     "slide_type": "fragment"
    }
   },
   "outputs": [],
   "source": [
    "# calculate the deformation field\n",
    "ux,uy,uz = pointsource3D(eastings, northings, elevations, **params)"
   ]
  },
  {
   "cell_type": "markdown",
   "id": "169335e6",
   "metadata": {
    "slideshow": {
     "slide_type": "subslide"
    }
   },
   "source": [
    "Plot the field and check the 3-dimensionality of the points"
   ]
  },
  {
   "cell_type": "code",
   "execution_count": null,
   "id": "3dc8c0d8",
   "metadata": {
    "scrolled": false,
    "slideshow": {
     "slide_type": "fragment"
    }
   },
   "outputs": [],
   "source": [
    "fig = plot3Dfield(ux, uy, uz, eastings, northings, elevations, arrow_tip_ratio = 0.7,\n",
    "                arrow_starting_ratio = 0.90)\n",
    "\n",
    "print(f'Maximum vector length {np.max(np.linalg.norm([ux.ravel(), uy.ravel(), uz.ravel()], axis=0)):0.3f} m')\n",
    "\n",
    "# Add the point source\n",
    "fig.add_trace(go.Scatter3d(x=[xs], y=[ys], z=[-d],\n",
    "                    mode='markers',\n",
    "                    marker_size=14,\n",
    "                    marker_color='red',\n",
    "                    name='source'))\n",
    "\n",
    "# mesh to plot the topography\n",
    "topox, topoy = np.meshgrid(np.linspace(xsteps[0], xsteps[-1], 200), np.linspace(ysteps[0], ysteps[-1], 200))\n",
    "topoz = belltopo(topox, topoy, xs, ys, 6000)*3300\n",
    "\n",
    "# add topography\n",
    "fig.add_trace(go.Surface(x=topox, y=topoy, z=topoz, opacity = .7, showscale = False, \n",
    "                         colorscale = 'Greys_r',\n",
    "                         name = \"Topography\"))\n",
    "\n",
    "\n",
    "\n",
    "camera = dict(\n",
    "    up=dict(x=0, y=1., z=0),\n",
    "    eye=dict(x=0., y=0., z=1.5))\n",
    "\n",
    "fig.update_layout(\n",
    "    width=900, height=900, scene_camera=camera, title='Deformation Field with Topography')\n",
    "\n",
    "fig.show()"
   ]
  },
  {
   "cell_type": "markdown",
   "id": "73f56cf0",
   "metadata": {
    "slideshow": {
     "slide_type": "slide"
    }
   },
   "source": [
    "# <center>  Geophysical inverse problems </center> \n",
    "\n",
    "## <center> Inverse problems = inference about physical systems from data </center> \n",
    "\n",
    "<div> <center><img src=\"figures/theil.png\" width=\"400\"/> </center></div>\n",
    "\n",
    "<p>Issues:</p>\n",
    "<ul>\n",
    "<li>Data usually contain errors (<strong>data uncertainties</strong>)</li>\n",
    "<li>We always have a <strong>finite amount of data</strong></li>\n",
    "<li>Physical <strong>theories</strong> require <strong>approximations</strong></li>\n",
    "<li>Our physical theory may be inaccurate (<strong>theoretical uncertainties</strong>)</li>\n",
    "<li>Our forward problem may be <strong>highly nonlinear</strong></li>\n",
    "<li>Infinitely many models will fit the data (<strong>non-uniqueness</strong>)</li>\n",
    "</ul>\n",
    "<p></p>\n",
    "<p style=\"padding-left: 40px; text-align: center;\"></p>\n",
    "<p style=\"padding-left: 40px; text-align: center;\">Three classical questions (from <span style=\"color: #0000ff;\">Backus and Gilbert, 1968</span>)</p>\n",
    "<ol>\n",
    "<li style=\"list-style-type: none;\">\n",
    "<ol>\n",
    "<li style=\"list-style-type: none;\">\n",
    "<ol>\n",
    "<li>The problem of the <span style=\"color: #339966;\"><strong>existence</strong></span>: does any model fit the data ?</li>\n",
    "<li>The problem of <span style=\"color: #339966;\"><strong>uniqueness</strong></span>: is there a unique model that fits the data ?</li>\n",
    "<li>The <strong><span style=\"color: #339966;\">stability</span></strong> problem: can small changes in the data produce large changes in the solution ?</li>\n",
    "</ol>\n",
    "</li>\n",
    "</ol>\n",
    "</li>\n",
    "</ol>\n",
    "<p style=\"padding-left: 40px; text-align: center;\">otherwise ... <span style=\"color: #ff0000;\"><strong>ill-posed problem</strong></span>! ... (<em>as our problem is</em>)</p>"
   ]
  },
  {
   "cell_type": "markdown",
   "id": "e672c158",
   "metadata": {
    "slideshow": {
     "slide_type": "subslide"
    }
   },
   "source": [
    "<p><em>Mathematically:&nbsp; &nbsp;</em><strong>Inversion = Optimization of a fitness function in the space of parameters</strong></p>\n",
    "<p><img src=\"figures/optims.png\" alt=\"Optimization\" style=\"float: right;\" width=\"500\"/></p>\n",
    "<p>Typically minimization of <span style=\"text-decoration: underline;\">misfit between data &amp; model output</span></p>\n",
    "<p>Most of the cases non-linear and non-covex optimization (so many local minima)</p>\n",
    "<p>An inversion procedure/optimization should be carried out with <em>bounded parameters</em></p>\n",
    "<div id=\"gtx-trans\" style=\"position: absolute; left: 512px; top: 69px;\">\n",
    "<div class=\"gtx-trans-icon\"></div>\n",
    "</div>\n",
    "\n",
    "\n",
    "$$ wrmse = \\sqrt{\\sum_{data}\\left[ \\frac{(m_i-p_i)^2}{e_i^2} \\right]} $$"
   ]
  },
  {
   "cell_type": "code",
   "execution_count": null,
   "id": "19c98112",
   "metadata": {
    "scrolled": false,
    "slideshow": {
     "slide_type": "fragment"
    }
   },
   "outputs": [],
   "source": [
    "# let's define the misfit function\n",
    "def wrmse(modelparams, x, y, z, ux, uy, uz, eux=1., euy=1., euz=1., nu=0.25): \n",
    "        \n",
    "    xs, ys, d, dV = modelparams\n",
    "    \n",
    "    ux_, uy_, uz_ = pointsource3D(x, y, z, xs, ys, d, dV, nu)\n",
    "\n",
    "    return np.sqrt((((ux_ - ux)/eux) ** 2 + ((uy_ - uy)/euy) ** 2 + ((uz_ - uz)/euz) ** 2).mean())"
   ]
  },
  {
   "cell_type": "markdown",
   "id": "c596abaa",
   "metadata": {
    "slideshow": {
     "slide_type": "subslide"
    }
   },
   "source": [
    "We now create the data for a synthetic deformation field from a known source and then try to find the pattern from the data by inversion.\n",
    "\n",
    "<p></p>\n",
    "<div> <center> <img src=\"figures/dirinv.gif\" width=\"400\"/> </center> </div>\n",
    "\n"
   ]
  },
  {
   "cell_type": "code",
   "execution_count": null,
   "id": "ef5f4537",
   "metadata": {
    "scrolled": false,
    "slideshow": {
     "slide_type": "subslide"
    }
   },
   "outputs": [],
   "source": [
    "# create the dataset of 3D displacements due to a point source\n",
    "\n",
    "xs = 500000      #m UTM horizontal location\n",
    "ys = 4177000     #m UTM horizontal location\n",
    "d = 1500         #m depth b.s.l.\n",
    "dV = 3e6         #m^3 \n",
    "\n",
    "# create a range of coordinates at step 100 m\n",
    "edgesemilength = 8000\n",
    "stepgrid = 2000 # m\n",
    "xsteps = np.linspace(xs-edgesemilength, xs+edgesemilength, int(2*edgesemilength/stepgrid))\n",
    "ysteps = np.linspace(ys-edgesemilength, ys+edgesemilength, int(2*edgesemilength/stepgrid))\n",
    "\n",
    "# create the mesh based on these arrays\n",
    "eastings, northings = np.meshgrid(xsteps, ysteps)\n",
    "\n",
    "# consider the topography\n",
    "elevations = belltopo(eastings, northings, xs, ys, 6000)*3300 #m\n",
    "\n",
    "# calculate the deformation data\n",
    "ux,uy,uz = pointsource3D(eastings, northings, elevations, xs=xs, ys=ys, d=d, dV=dV)"
   ]
  },
  {
   "cell_type": "markdown",
   "id": "8d8fe044",
   "metadata": {
    "slideshow": {
     "slide_type": "subslide"
    }
   },
   "source": [
    "<p>With only the data obtained, we now try to derive the source parameters (whose nominal values we know).</p>\n",
    "<p>To do the inversion, we can use a multi-step algorithm:</p>\n",
    "<p style=\"padding-left: 40px;\">- we give an <strong>assumed value (our best guess)</strong> to the parameters from which to start the search<br />- with a <strong>heuristic global optimization</strong> algorithm we obtain other parameter values that are candidates for the optimal solution</p>\n",
    "<p style=\"padding-left: 40px;\">We apply a <strong>direct search</strong> optimization algorithm to each of these two potential solutions.</p>\n",
    "<p style=\"padding-left: 40px;\">We choose the solution found <em>best in terms of misfit!</em></p>\n",
    "<p></p>\n",
    "<p></p>\n",
    "\n",
    "<p>As for the heuristic global optimization algorithm we can use for example the DIRECT: DIviding RECTangles is a deterministic global optimization algorithm capable of minimizing a black box function with its variables subject to lower and upper bound constraints by sampling potential solutions in the search space (<span style=\"color: #3366ff;\">Jones, Perttunen &amp; Stuckman, 1993</span>).</p>\n",
    "\n",
    "<p>As for the direct search algorithm we can use for example the Nelder-Mead method (<span style=\"color: #3366ff;\">Nelder and Mead, 1965</span>).</p>"
   ]
  },
  {
   "cell_type": "code",
   "execution_count": null,
   "id": "02ecdc9f",
   "metadata": {
    "scrolled": false,
    "slideshow": {
     "slide_type": "subslide"
    }
   },
   "outputs": [],
   "source": [
    "# Inversion\n",
    "# ----------------\n",
    "\n",
    "# define the misfit function of the model parameters\n",
    "errfunc = lambda modelparams: wrmse(modelparams, eastings, northings, elevations, \n",
    "                                                             ux, uy, uz, nu=0.25)\n",
    "\n",
    "# define the boundary conditions\n",
    "#          xs[m]      ys[m]    d [m]   dV [m^3]\n",
    "lwbound = [xs-10000, ys-10000,  0,    -1e7 ]        \n",
    "upbound = [xs+10000, ys+10000, 6000,  1e7]\n",
    "\n",
    "# define our best guess of the parameter values\n",
    "initial_guess = [xs+1000,  ys-1000,     3000,   1e6]\n",
    "\n",
    "# Global heuristic optimization, 2-steps: global search + direct search\n",
    "\n",
    "# DIRECT global constrained optimization\n",
    "first_guess = direct(errfunc, bounds=list(zip(lwbound, upbound)))\n",
    "\n",
    "# refinining two solutions\n",
    "opt1 = minimize(errfunc, first_guess.x, method='nelder-mead', bounds=list(zip(lwbound, upbound)))\n",
    "opt2 = minimize(errfunc, initial_guess, method='nelder-mead', bounds=list(zip(lwbound, upbound)))\n",
    "\n",
    "# choose the best result\n",
    "opt = opt1 if opt1.fun<opt2.fun else opt2\n",
    "\n",
    "# take the optimal parameters found\n",
    "optimal_xs, optimal_ys, optimal_d, optimal_dV = opt.x\n",
    "\n",
    "print(f'Found WRMSE Global minimum {errfunc(opt.x)}')\n",
    "\n",
    "# calculate the predicted deformation field with the found parameters\n",
    "ux_, uy_, uz_ = pointsource3D(eastings, northings, elevations, \n",
    "                              optimal_xs, optimal_ys, optimal_d, optimal_dV)\n",
    "\n",
    "# create a table to compare the parameters with the nominal ones\n",
    "comparison = pd.DataFrame([[xs, ys, d, dV], [optimal_xs, optimal_ys, optimal_d, optimal_dV]], \n",
    "                          columns=['easting [m]','northing [m]','depth [m]','dV [m^3]'])\n",
    "comparison.index = ['real','retrieved']"
   ]
  },
  {
   "cell_type": "markdown",
   "id": "56fcb618",
   "metadata": {
    "slideshow": {
     "slide_type": "fragment"
    }
   },
   "source": [
    "Plot the deformation field predicted by the optimal model vs the real field and compare the parameters with the nominal ones."
   ]
  },
  {
   "cell_type": "code",
   "execution_count": null,
   "id": "3a850c86",
   "metadata": {
    "scrolled": false,
    "slideshow": {
     "slide_type": "fragment"
    }
   },
   "outputs": [],
   "source": [
    "# Plot Real deformation field\n",
    "fig = plot3Dfield(ux, uy, uz, eastings, northings, elevations, color='black', arrow_tip_ratio = 0.7,\n",
    "                arrow_starting_ratio = 0.90)\n",
    "\n",
    "print(f'Maximum measured vector length {np.max(np.linalg.norm([ux.ravel(), uy.ravel(), uz.ravel()], axis=0)):0.3f} m')\n",
    "\n",
    "# Add the real point source\n",
    "fig.add_trace(go.Scatter3d(x=[xs], y=[ys], z=[-d],\n",
    "                    mode='markers',\n",
    "                    marker_size=14,\n",
    "                    marker_color='black',\n",
    "                    name='real source'))\n",
    "\n",
    "# Plot the model-predicted deformation field\n",
    "fig = plot3Dfield(ux_, uy_, uz_, eastings, northings, elevations, fig=fig, color='red', arrow_tip_ratio = 1.0,\n",
    "                arrow_starting_ratio = 0.90)\n",
    "\n",
    "print(f'Maximum predicted vector length {np.max(np.linalg.norm([ux_.ravel(), uy_.ravel(), uz_.ravel()], axis=0)):0.3f} m')\n",
    "\n",
    "# Add the found point source\n",
    "fig.add_trace(go.Scatter3d(x=[optimal_xs], y=[optimal_ys], z=[-optimal_d],\n",
    "                    mode='markers',\n",
    "                    marker_size=14,\n",
    "                    marker_color='red',\n",
    "                    name='estimated source'))\n",
    "\n",
    "camera = dict(\n",
    "    up=dict(x=0, y=1., z=0),\n",
    "    eye=dict(x=0., y=0., z=1.5))\n",
    "\n",
    "fig.update_layout(\n",
    "    width=900, height=900, scene_camera=camera, title='Deformation Field')\n",
    "\n",
    "display(comparison)\n",
    "\n",
    "fig.show()"
   ]
  },
  {
   "cell_type": "markdown",
   "id": "d856f284",
   "metadata": {
    "slideshow": {
     "slide_type": "subslide"
    }
   },
   "source": [
    "<p style=\"text-align: center;\"><center><strong><img src=\"figures/smiley-cool.gif\" alt=\"cool\" /> Easy Peasy!</strong></center></p>\n",
    "<p><span>To be more realistic our data should be affected by noise.</span></p>\n",
    "<p><span>So let's add noise to our synthetic measurements!</span></p>"
   ]
  },
  {
   "cell_type": "code",
   "execution_count": null,
   "id": "2ffc8c7d",
   "metadata": {
    "scrolled": false,
    "slideshow": {
     "slide_type": "fragment"
    }
   },
   "outputs": [],
   "source": [
    "sigmahorz = 0.01 #m\n",
    "sigmavert = 0.02 #m\n",
    "\n",
    "# additive white Gaussian noise\n",
    "noisy_ux = ux + np.random.normal(0, sigmahorz, ux.shape)\n",
    "noisy_uy = uy + np.random.normal(0, sigmahorz, uy.shape)\n",
    "noisy_uz = uz + np.random.normal(0, sigmavert, uz.shape)"
   ]
  },
  {
   "cell_type": "markdown",
   "id": "0aedc5cd",
   "metadata": {
    "slideshow": {
     "slide_type": "fragment"
    }
   },
   "source": [
    "and now do inversion on the **noisy data**"
   ]
  },
  {
   "cell_type": "code",
   "execution_count": null,
   "id": "dffa2fe0",
   "metadata": {
    "scrolled": false,
    "slideshow": {
     "slide_type": "fragment"
    }
   },
   "outputs": [],
   "source": [
    "# Inversion\n",
    "# ----------------\n",
    "\n",
    "errfunc = lambda modelparams: wrmse(modelparams, eastings, northings, elevations, \n",
    "                                                             noisy_ux, noisy_uy, noisy_uz, nu=0.25)\n",
    "\n",
    "#          xs[m]      ys[m]    d [m]   dV [m^3]\n",
    "lwbound = [xs-10000, ys-10000,  0,    -1e7 ]        \n",
    "upbound = [xs+10000, ys+10000, 6000,  1e7]\n",
    "\n",
    "initial_guess = [xs+1000,  ys-1000,     3000,   1e6]\n",
    "\n",
    "# Global heuristic optimization, 2-steps: global search + direct search\n",
    "first_guess = direct(errfunc, bounds=list(zip(lwbound, upbound)))\n",
    "\n",
    "# refinining two solutions\n",
    "opt1 = minimize(errfunc, first_guess.x, method='nelder-mead', bounds=list(zip(lwbound, upbound)))\n",
    "opt2 = minimize(errfunc, initial_guess, method='nelder-mead', bounds=list(zip(lwbound, upbound)))\n",
    "\n",
    "# choose the best result\n",
    "opt = opt1 if opt1.fun<opt2.fun else opt2\n",
    "\n",
    "optimal_xs, optimal_ys, optimal_d, optimal_dV = opt.x\n",
    "\n",
    "print(f'Found WRMSE Global minimum {errfunc(opt.x)}')\n",
    "\n",
    "ux_, uy_, uz_ = pointsource3D(eastings, northings, elevations, \n",
    "                              optimal_xs, optimal_ys, optimal_d, optimal_dV)\n",
    "\n",
    "\n",
    "comparison = pd.DataFrame([[xs, ys, d, dV], [optimal_xs, optimal_ys, optimal_d, optimal_dV]], \n",
    "                          columns=['easting [m]','northing [m]','depth [m]','dV [m^3]'])\n",
    "comparison.index = ['real','retrieved']"
   ]
  },
  {
   "cell_type": "markdown",
   "id": "c45c65a2",
   "metadata": {
    "slideshow": {
     "slide_type": "fragment"
    }
   },
   "source": [
    "Plot the deformation field predicted by the optimal model vs the real field and compare the parameters with the nominal ones."
   ]
  },
  {
   "cell_type": "code",
   "execution_count": null,
   "id": "62f92583",
   "metadata": {
    "scrolled": false,
    "slideshow": {
     "slide_type": "fragment"
    }
   },
   "outputs": [],
   "source": [
    "# Plot Real deformation field\n",
    "fig = plot3Dfield(noisy_ux, noisy_uy, noisy_uz, eastings, northings, elevations, color='black', \n",
    "                  arrow_tip_ratio = 0.3,\n",
    "                  arrow_starting_ratio = 0.90)\n",
    "\n",
    "print(f'Maximum measured vector length {np.max(np.linalg.norm([ux.ravel(), uy.ravel(), uz.ravel()], axis=0)):0.3f} m')\n",
    "\n",
    "# Add the real point source\n",
    "fig.add_trace(go.Scatter3d(x=[xs], y=[ys], z=[-d],\n",
    "                    mode='markers',\n",
    "                    marker_size=14,\n",
    "                    marker_color='black',\n",
    "                    name='real source'))\n",
    "\n",
    "# Plot the model-predicted deformation field\n",
    "fig = plot3Dfield(ux_, uy_, uz_, eastings, northings, elevations, fig=fig, color='red', arrow_tip_ratio = 0.8,\n",
    "                arrow_starting_ratio = 0.90)\n",
    "\n",
    "print(f'Maximum predicted vector length {np.max(np.linalg.norm([ux_.ravel(), uy_.ravel(), uz_.ravel()], axis=0)):0.3f} m')\n",
    "\n",
    "# Add the real point source\n",
    "fig.add_trace(go.Scatter3d(x=[optimal_xs], y=[optimal_ys], z=[-optimal_d],\n",
    "                    mode='markers',\n",
    "                    marker_size=14,\n",
    "                    marker_color='red',\n",
    "                    name='estimated source'))\n",
    "\n",
    "camera = dict(\n",
    "    up=dict(x=0, y=1., z=0),\n",
    "    eye=dict(x=0., y=0., z=1.5)\n",
    ")\n",
    "\n",
    "fig.update_layout(\n",
    "    width=900, height=900, scene_camera=camera, title='Deformation Field'\n",
    ")\n",
    "\n",
    "display(comparison)\n",
    "\n",
    "fig.show()"
   ]
  },
  {
   "cell_type": "markdown",
   "id": "35f45824",
   "metadata": {
    "slideshow": {
     "slide_type": "subslide"
    }
   },
   "source": [
    "We generally do not have many measuring stations, and probably not even arranged in a regular manner\n",
    "\n",
    "So let's go with an even more realistic, less stations ... (soon you will see that there are other instruments able to mitigate this problem)"
   ]
  },
  {
   "cell_type": "code",
   "execution_count": null,
   "id": "527421a9",
   "metadata": {
    "scrolled": false,
    "slideshow": {
     "slide_type": "fragment"
    }
   },
   "outputs": [],
   "source": [
    "# define how many stations we want\n",
    "nstations = 10\n",
    "\n",
    "# pick randomly some stations\n",
    "idx = random.sample(list(range(np.size(noisy_ux))), nstations)\n",
    "few_noisy_ux = noisy_ux.ravel()[idx]\n",
    "few_noisy_uy = noisy_uy.ravel()[idx]\n",
    "few_noisy_uz = noisy_uz.ravel()[idx]\n",
    "few_eastings = eastings.ravel()[idx]\n",
    "few_northings = northings.ravel()[idx]\n",
    "few_elevations = elevations.ravel()[idx]"
   ]
  },
  {
   "cell_type": "markdown",
   "id": "98c80104",
   "metadata": {
    "slideshow": {
     "slide_type": "fragment"
    }
   },
   "source": [
    "Re-try the inversion with a few noisy data"
   ]
  },
  {
   "cell_type": "code",
   "execution_count": null,
   "id": "573ae8c2",
   "metadata": {
    "scrolled": false,
    "slideshow": {
     "slide_type": "fragment"
    }
   },
   "outputs": [],
   "source": [
    "# Inversion\n",
    "# ----------------\n",
    "\n",
    "errfunc = lambda modelparams: wrmse(modelparams, few_eastings, few_northings, few_elevations, \n",
    "                                                             few_noisy_ux, few_noisy_uy, few_noisy_uz, nu=0.25)\n",
    "\n",
    "#          xs[m]      ys[m]    d [m]   dV [m^3]\n",
    "lwbound = [xs-10000, ys-10000,  100,    -1e7 ]        \n",
    "upbound = [xs+10000, ys+10000, 5000,  1e7]\n",
    "\n",
    "initial_guess = [xs+1000,  ys-1000,     3000,   1e6]\n",
    "\n",
    "# Global heuristic optimization, 2-steps: global search + direct search\n",
    "first_guess = direct(errfunc, bounds=list(zip(lwbound, upbound)))\n",
    "\n",
    "# refinining two solutions\n",
    "opt1 = minimize(errfunc, first_guess.x, method='nelder-mead', bounds=list(zip(lwbound, upbound)))\n",
    "opt2 = minimize(errfunc, initial_guess, method='nelder-mead', bounds=list(zip(lwbound, upbound)))\n",
    "\n",
    "# choose the best result\n",
    "opt = opt1 if opt1.fun<opt2.fun else opt2\n",
    "\n",
    "optimal_xs, optimal_ys, optimal_d, optimal_dV = opt.x\n",
    "\n",
    "print(f'Found WRMSE Global minimum {errfunc(opt.x)}')\n",
    "\n",
    "ux_, uy_, uz_ = pointsource3D(few_eastings, few_northings, few_elevations, \n",
    "                              optimal_xs, optimal_ys, optimal_d, optimal_dV)\n",
    "\n",
    "\n",
    "comparison = pd.DataFrame([[xs, ys, d, dV], [optimal_xs, optimal_ys, optimal_d, optimal_dV]], \n",
    "                          columns=['easting [m]','northing [m]','depth [m]','dV [m^3]'])\n",
    "comparison.index = ['real','retrieved']\n"
   ]
  },
  {
   "cell_type": "markdown",
   "id": "5179885c",
   "metadata": {
    "slideshow": {
     "slide_type": "fragment"
    }
   },
   "source": [
    "Plot the results and compare the solution"
   ]
  },
  {
   "cell_type": "code",
   "execution_count": null,
   "id": "742e214f",
   "metadata": {
    "scrolled": false,
    "slideshow": {
     "slide_type": "fragment"
    }
   },
   "outputs": [],
   "source": [
    "# Plot Real deformation field\n",
    "fig = plot3Dfield(few_noisy_ux, few_noisy_uy, few_noisy_uz, few_eastings, few_northings, few_elevations, \n",
    "                  color='black', arrow_tip_ratio = 0.7,\n",
    "                arrow_starting_ratio = 0.90)\n",
    "\n",
    "print('Maximum synthetic vector length '+\n",
    "      f'{np.max(np.linalg.norm([few_noisy_ux.ravel(), few_noisy_uy.ravel(), few_noisy_uz.ravel()], axis=0)):0.3f} m')\n",
    "\n",
    "# Add the real point source\n",
    "fig.add_trace(go.Scatter3d(x=[xs], y=[ys], z=[-d],\n",
    "                    mode='markers',\n",
    "                    marker_size=14,\n",
    "                    marker_color='black',\n",
    "                    name='real source'))\n",
    "\n",
    "# Plot the model-predicted deformation field\n",
    "fig = plot3Dfield(ux_, uy_, uz_, few_eastings, few_northings, few_elevations, fig=fig, color='red', \n",
    "                  arrow_tip_ratio = 0.7, arrow_starting_ratio = 0.90)\n",
    "\n",
    "\n",
    "print(f'Maximum predicted vector length {np.max(np.linalg.norm([ux_.ravel(), uy_.ravel(), uz_.ravel()], axis=0)):0.3f} m')\n",
    "\n",
    "# Add the real point source\n",
    "fig.add_trace(go.Scatter3d(x=[optimal_xs], y=[optimal_ys], z=[-optimal_d],\n",
    "                    mode='markers',\n",
    "                    marker_size=14,\n",
    "                    marker_color='red',\n",
    "                    name='estimated source'))\n",
    "\n",
    "camera = dict(\n",
    "    up=dict(x=0, y=1., z=0),\n",
    "    eye=dict(x=0., y=0., z=1.5)\n",
    ")\n",
    "\n",
    "fig.update_layout(\n",
    "    width=900, height=900, scene_camera=camera, title='Deformation Field'\n",
    ")\n",
    "\n",
    "display(comparison)\n",
    "\n",
    "fig.show()"
   ]
  },
  {
   "cell_type": "markdown",
   "id": "86f5daa3",
   "metadata": {
    "slideshow": {
     "slide_type": "subslide"
    }
   },
   "source": [
    "<p><center><img src=\"figures/uncertainty.jpeg\" alt=\"uncert\" width=\"400\" /></center></p>\n",
    "\n",
    "\n",
    "We haven't considered yet the measurement associated uncertainties!!!\n",
    "\n",
    "So let's associate uncertanties to our noisy data by taking the deviation from the nominal values."
   ]
  },
  {
   "cell_type": "code",
   "execution_count": null,
   "id": "7764ddcf",
   "metadata": {
    "scrolled": false,
    "slideshow": {
     "slide_type": "fragment"
    }
   },
   "outputs": [],
   "source": [
    "# create false uncertainties but realistic\n",
    "\n",
    "eux = np.abs((few_noisy_ux - ux.ravel()[idx]))\n",
    "euy = np.abs((few_noisy_uy - uy.ravel()[idx]))\n",
    "euz = np.abs((few_noisy_uz - uz.ravel()[idx]))"
   ]
  },
  {
   "cell_type": "markdown",
   "id": "4763f5bf",
   "metadata": {
    "slideshow": {
     "slide_type": "fragment"
    }
   },
   "source": [
    "Re-try the inversion considering the data associated uncertainties.\n",
    "\n",
    "$$ wrmse = \\sqrt{\\sum_{data}\\left[ \\frac{(m_i-p_i)^2}{e_i^2} \\right]} $$"
   ]
  },
  {
   "cell_type": "code",
   "execution_count": null,
   "id": "10b78c22",
   "metadata": {
    "scrolled": false,
    "slideshow": {
     "slide_type": "fragment"
    }
   },
   "outputs": [],
   "source": [
    "# Inversion\n",
    "# ----------------\n",
    "\n",
    "errfunc = lambda modelparams: wrmse(modelparams, few_eastings, few_northings, few_elevations, \n",
    "                                                             few_noisy_ux, few_noisy_uy, few_noisy_uz, \n",
    "                                                            eux=eux, euy=euy, euz=euz, nu=0.25)\n",
    "\n",
    "#          xs[m]      ys[m]    d [m]   dV [m^3]\n",
    "lwbound = [xs-10000, ys-10000,  0,    -1e7 ]        \n",
    "upbound = [xs+10000, ys+10000, 6000,  1e7]\n",
    "\n",
    "initial_guess = [xs+1000,  ys-1000,     3000,   1e6]\n",
    "\n",
    "# Global heuristic optimization, 2-steps: global search + direct search\n",
    "first_guess = direct(errfunc, bounds=list(zip(lwbound, upbound)))\n",
    "\n",
    "# refinining two solutions\n",
    "opt1 = minimize(errfunc, first_guess.x, method='nelder-mead', bounds=list(zip(lwbound, upbound)))\n",
    "opt2 = minimize(errfunc, initial_guess, method='nelder-mead', bounds=list(zip(lwbound, upbound)))\n",
    "\n",
    "# choose the best result\n",
    "opt = opt1 if opt1.fun<opt2.fun else opt2\n",
    "\n",
    "optimal_xs, optimal_ys, optimal_d, optimal_dV = opt.x\n",
    "\n",
    "print(f'Found WRMSE Global minimum {errfunc(opt.x)}')\n",
    "\n",
    "ux_, uy_, uz_ = pointsource3D(few_eastings, few_northings, few_elevations, \n",
    "                              optimal_xs, optimal_ys, optimal_d, optimal_dV)\n",
    "\n",
    "\n",
    "comparison = pd.DataFrame([[xs, ys, d, dV], [optimal_xs, optimal_ys, optimal_d, optimal_dV]], \n",
    "                          columns=['easting [m]','northing [m]','depth [m]','dV [m^3]'])\n",
    "comparison.index = ['real','retrieved']\n"
   ]
  },
  {
   "cell_type": "markdown",
   "id": "e9c4e4d9",
   "metadata": {
    "slideshow": {
     "slide_type": "fragment"
    }
   },
   "source": [
    "Plot the results and compare the solution"
   ]
  },
  {
   "cell_type": "code",
   "execution_count": null,
   "id": "6b8c3272",
   "metadata": {
    "scrolled": false,
    "slideshow": {
     "slide_type": "fragment"
    }
   },
   "outputs": [],
   "source": [
    "# Plot Real deformation field\n",
    "fig = plot3Dfield(few_noisy_ux, few_noisy_uy, few_noisy_uz, few_eastings, few_northings, few_elevations, \n",
    "                  color='black', arrow_tip_ratio = 0.7,\n",
    "                arrow_starting_ratio = 0.90)\n",
    "\n",
    "print('Maximum synthetic vector length '+\n",
    "      f'{np.max(np.linalg.norm([few_noisy_ux.ravel(), few_noisy_uy.ravel(), few_noisy_uz.ravel()], axis=0)):0.3f} m')\n",
    "\n",
    "# Add the real point source\n",
    "fig.add_trace(go.Scatter3d(x=[xs], y=[ys], z=[-d],\n",
    "                    mode='markers',\n",
    "                    marker_size=14,\n",
    "                    marker_color='black',\n",
    "                    name='real source'))\n",
    "\n",
    "# Plot the model-predicted deformation field\n",
    "fig = plot3Dfield(ux_, uy_, uz_, few_eastings, few_northings, few_elevations, fig=fig, color='red', \n",
    "                  arrow_tip_ratio = 0.7, arrow_starting_ratio = 0.90)\n",
    "\n",
    "print(f'Maximum predicted vector length {np.max(np.linalg.norm([ux_.ravel(), uy_.ravel(), uz_.ravel()], axis=0)):0.3f} m')\n",
    "\n",
    "# Add the real point source\n",
    "fig.add_trace(go.Scatter3d(x=[optimal_xs], y=[optimal_ys], z=[-optimal_d],\n",
    "                    mode='markers',\n",
    "                    marker_size=14,\n",
    "                    marker_color='red',\n",
    "                    name='estimated source'))\n",
    "\n",
    "\n",
    "camera = dict(\n",
    "    up=dict(x=0, y=1., z=0),\n",
    "    eye=dict(x=0., y=0., z=1.5)\n",
    ")\n",
    "\n",
    "fig.update_layout(\n",
    "    width=900, height=900, scene_camera=camera, title='Deformation Field'\n",
    ")\n",
    "\n",
    "display(comparison)\n",
    "\n",
    "fig.show()"
   ]
  },
  {
   "cell_type": "markdown",
   "id": "efe0e884",
   "metadata": {
    "slideshow": {
     "slide_type": "slide"
    }
   },
   "source": [
    "# Modelling a dyke, the Okada analytical model\n",
    "\n",
    "<p>The Okada model, named after its creator, Yoshimitsu Okada, is a fundamental and widely used method for <span style=\"text-decoration: underline;\">modeling ground deformation</span> <span style=\"text-decoration: underline;\">caused by seismic and volcanic events</span>.</p>\n",
    "<p>Developed in the late 1980s, the Okada model provides a mathematical framework to understand and predict surface displacements resulting from the movement of <strong>faults</strong> or <strong>magma</strong> beneath the Earth's crust.</p>\n",
    "<p></p>\n",
    "<p><center><img src=\"figures/okada.jpg\" alt=\"Okada\" width=400/></center></p>\n",
    "<p></p>\n",
    "<p><span>It takes into account parameters such as fault length, width, depth of the top edge, orientations and the amount of slip or tensile that occurs during the event.</span></p>\n",
    "<p><span>Dykes, usually, are characterized mainly with tensile components.</span></p>"
   ]
  },
  {
   "cell_type": "markdown",
   "id": "e141eb90",
   "metadata": {
    "slideshow": {
     "slide_type": "subslide"
    }
   },
   "source": [
    "<p>The equations and implementation are much more complex and longer than the Mogi source, so \n",
    "    <strong>let's avoid them !!!<img src=\"figures/smiley-wink.gif\" alt=\"wink\" /></strong></p>"
   ]
  },
  {
   "cell_type": "code",
   "execution_count": null,
   "id": "10406c3c",
   "metadata": {
    "scrolled": false,
    "slideshow": {
     "slide_type": "fragment"
    }
   },
   "outputs": [],
   "source": [
    "from improve import okada, plotOkada\n",
    "\n",
    "# set model parameters\n",
    "\n",
    "xs = 495000      #m UTM horizontal location\n",
    "ys = 4180000     #m UTM horizontal location\n",
    "zs = -2000         #m elevation a.s.l. of the middle top point of the rectangle\n",
    "length = 5000  #m of the top\n",
    "width = 4000   #m\n",
    "azimuth = 187   # ° degrees from North\n",
    "dip = 88       # ° degrees, 90 vertical\n",
    "opening = 3  # m\n",
    "\n",
    "params = OrderedDict([('xs',xs),\n",
    "            ('ys',ys),\n",
    "            ('zs', zs), #m\n",
    "            ('length', length), #m\n",
    "            ('width', width), #m\n",
    "            ('azimuth', azimuth), #m\n",
    "            ('dip', dip), #m\n",
    "            ('opening', opening), #m\n",
    "            ])\n",
    "\n",
    "\n",
    "# create a range of coordinates at step 100 m to see the deformation field\n",
    "edgesemilength = 10000\n",
    "stepgrid = 100 # m\n",
    "xsteps = np.linspace(xs-edgesemilength, xs+edgesemilength, int(2*edgesemilength/stepgrid))\n",
    "ysteps = np.linspace(ys-edgesemilength, ys+edgesemilength, int(2*edgesemilength/stepgrid))"
   ]
  },
  {
   "cell_type": "markdown",
   "id": "29845714",
   "metadata": {
    "slideshow": {
     "slide_type": "fragment"
    }
   },
   "source": [
    "Calculate and plot the predicted deformation field by the Okada model given the parameter values.\n",
    "\n",
    "You will notice that the field is more complex and not centrally symmetrical."
   ]
  },
  {
   "cell_type": "code",
   "execution_count": null,
   "id": "0e668692",
   "metadata": {
    "scrolled": false,
    "slideshow": {
     "slide_type": "fragment"
    }
   },
   "outputs": [],
   "source": [
    "# create the mesh based on these arrays\n",
    "eastings, northings = np.meshgrid(xsteps, ysteps)\n",
    "\n",
    "elevations = eastings*0\n",
    "\n",
    "ux,uy,uz = okada(eastings, northings, elevations, **params)\n",
    "\n",
    "# Create four polar axes and access them through the returned array\n",
    "fig, axs = plt.subplots(2, 2, figsize=(13, 11))\n",
    "\n",
    "# east component\n",
    "c = axs[0, 0].pcolormesh(eastings/1000, northings/1000, ux, cmap='RdBu_r', vmin=np.min(ux), vmax=np.max(ux))\n",
    "axs[0, 0].set_title('x-component')\n",
    "clb = fig.colorbar(c, ax=axs[0, 0])\n",
    "clb.ax.set_title('m')\n",
    "\n",
    "# north component\n",
    "c = axs[0, 1].pcolormesh(eastings/1000, northings/1000, uy, cmap='RdBu_r', vmin=np.min(ux), vmax=np.max(ux))\n",
    "axs[0, 1].set_title('y-component')\n",
    "clb = fig.colorbar(c, ax=axs[0, 1])\n",
    "clb.ax.set_title('m')\n",
    "\n",
    "# vertical component\n",
    "c = axs[1, 0].pcolormesh(eastings/1000, northings/1000, uz, cmap='viridis', vmin=np.min(uz), vmax=np.max(uz))\n",
    "axs[1, 0].set_title('z-component')\n",
    "clb = fig.colorbar(c, ax=axs[1, 0])\n",
    "clb.ax.set_title('m')\n",
    "\n",
    "# total deformation\n",
    "c = axs[1, 1].pcolormesh(eastings/1000, northings/1000, np.sqrt(ux**2 + uy**2 + uz**2), cmap='viridis', \n",
    "                                                                            vmin=np.min(uz), vmax=np.max(uz))\n",
    "axs[1, 1].set_title('total')\n",
    "clb = fig.colorbar(c, ax=axs[1, 1])\n",
    "clb.ax.set_title('m')\n",
    "\n",
    "plt.show()"
   ]
  },
  {
   "cell_type": "markdown",
   "id": "ade161e1",
   "metadata": {
    "slideshow": {
     "slide_type": "subslide"
    }
   },
   "source": [
    "Let's plot the deformation vector as seen by GNSS stations on a regular grid."
   ]
  },
  {
   "cell_type": "code",
   "execution_count": null,
   "id": "646382a3",
   "metadata": {
    "scrolled": false,
    "slideshow": {
     "slide_type": "fragment"
    }
   },
   "outputs": [],
   "source": [
    "# create a range of coordinates at step 2000 m\n",
    "stepgrid = 2000 # m\n",
    "edgesemilength = 8000\n",
    "xsteps = np.linspace(xs-edgesemilength, xs+edgesemilength, int(2*edgesemilength/stepgrid))\n",
    "ysteps = np.linspace(ys-edgesemilength, ys+edgesemilength, int(2*edgesemilength/stepgrid))\n",
    "\n",
    "# create the mesh based on these arrays\n",
    "eastings, northings = np.meshgrid(xsteps, ysteps)\n",
    "elevations = eastings*0\n",
    "\n",
    "ux,uy,uz = okada(eastings, northings, elevations, **params)"
   ]
  },
  {
   "cell_type": "code",
   "execution_count": null,
   "id": "6c8614e9",
   "metadata": {
    "scrolled": false,
    "slideshow": {
     "slide_type": "fragment"
    }
   },
   "outputs": [],
   "source": [
    "fig = plot3Dfield(ux, uy, uz, eastings, northings, arrow_tip_ratio = 0.2,\n",
    "                arrow_starting_ratio = 0.90, scalevertfactor = 60000)\n",
    "\n",
    "print(f'Maximum measured vector length {np.max(np.linalg.norm([ux.ravel(), uy.ravel(), uz.ravel()], axis=0)):0.3f} m')\n",
    "\n",
    "# call a function that return the coordinates of the surface representig the Okada source\n",
    "ox, oy, oz = plotOkada(xs, ys, zs, azimuth, dip, length, width)\n",
    "\n",
    "# Add the real dike source\n",
    "fig.add_trace(go.Surface(x=ox, y=oy, z=oz,                         \n",
    "                         autocolorscale=False,\n",
    "                    name='estimated source', showscale=False))\n",
    "\n",
    "camera = dict(\n",
    "    up=dict(x=0, y=1., z=0),\n",
    "    eye=dict(x=0., y=0., z=1.5))\n",
    "\n",
    "fig.update_layout(\n",
    "    width=900, height=900, scene_camera=camera, title='Deformation Field')\n",
    "\n",
    "fig.show()"
   ]
  },
  {
   "cell_type": "markdown",
   "id": "380271d6",
   "metadata": {
    "slideshow": {
     "slide_type": "subslide"
    }
   },
   "source": [
    "## let's invert!\n",
    "\n",
    "As done previously, we try to invert the synthetic strain field just calculated to see if we find the nominal solution again.\n",
    "\n",
    "We skip the exact synthetic data step and go directly to the data to which we add noise."
   ]
  },
  {
   "cell_type": "code",
   "execution_count": null,
   "id": "13e94c3a",
   "metadata": {
    "scrolled": false,
    "slideshow": {
     "slide_type": "fragment"
    }
   },
   "outputs": [],
   "source": [
    "sigmahorz = 0.01 #m\n",
    "sigmavert = 0.02 #m\n",
    "\n",
    "noisy_ux = ux + np.random.normal(0, sigmahorz, ux.shape)\n",
    "noisy_uy = uy + np.random.normal(0, sigmahorz, uy.shape)\n",
    "noisy_uz = uz + np.random.normal(0, sigmavert, uz.shape)"
   ]
  },
  {
   "cell_type": "markdown",
   "id": "bf847649",
   "metadata": {
    "slideshow": {
     "slide_type": "fragment"
    }
   },
   "source": [
    "Re-define the misfit function for an Okada model"
   ]
  },
  {
   "cell_type": "code",
   "execution_count": null,
   "id": "73b3c9ca",
   "metadata": {
    "scrolled": false,
    "slideshow": {
     "slide_type": "fragment"
    }
   },
   "outputs": [],
   "source": [
    "def wrmse(modelparams, x, y, z, ux, uy, uz, eux=1., euy=1., euz=1., nu=0.25): \n",
    "    \n",
    "    xs, ys, zs, azimuth, dip, length, width, opening = modelparams\n",
    "    \n",
    "    # calculate the predicted Okada deformation\n",
    "    ux_, uy_, uz_ = okada(x, y, z, xs, ys, zs, azimuth, dip, length, width, opening=opening, nu=nu)\n",
    "\n",
    "    return np.sqrt((((ux_ - ux)/eux) ** 2 + ((uy_ - uy)/euy) ** 2 + ((uz_ - uz)/euz) ** 2).mean())"
   ]
  },
  {
   "cell_type": "markdown",
   "id": "391de6c9",
   "metadata": {
    "slideshow": {
     "slide_type": "fragment"
    }
   },
   "source": [
    "we now apply the same inversion scheme that we used previously"
   ]
  },
  {
   "cell_type": "code",
   "execution_count": null,
   "id": "7cd755d2",
   "metadata": {
    "scrolled": false,
    "slideshow": {
     "slide_type": "fragment"
    }
   },
   "outputs": [],
   "source": [
    "# Inversion\n",
    "# ----------------\n",
    "\n",
    "# define the misfit for the actual data\n",
    "errfunc = lambda modelparams: wrmse(modelparams, eastings, northings, elevations, \n",
    "                                                             noisy_ux, noisy_uy, noisy_uz, nu=0.25)\n",
    "\n",
    "# set the constraints for each model parameter\n",
    "#          xs[m]      ys[m]    zs[m]   azimuth[°]    dip[°]  length[m]  width[m]  opening[m]\n",
    "lwbound = [xs-10000, ys-10000, -5000,    0,           0,     100,          100,       0]        \n",
    "upbound = [xs+10000, ys+10000,  -10,      360,          89.,   6000,         6000,      5]\n",
    "\n",
    "# define an intial guess of the solution\n",
    "#                xs[m]      ys[m]    zs[m]   azi[°]    dip[°] len[m]  wid[m]  opening[m]\n",
    "initial_guess = [xs+1000,  ys-1000,     -500,   100,   85,   2000,    3000,     1]\n",
    "\n",
    "# Global heuristic optimization, 2-steps: global search + direct search\n",
    "first_guess = direct(errfunc, bounds=list(zip(lwbound, upbound)))\n",
    "\n",
    "# refinining two solutions\n",
    "opt1 = minimize(errfunc, first_guess.x, method='nelder-mead', bounds=list(zip(lwbound, upbound)))\n",
    "opt2 = minimize(errfunc, initial_guess, method='nelder-mead', bounds=list(zip(lwbound, upbound)))\n",
    "\n",
    "# choose the best result\n",
    "opt = opt1 if opt1.fun<opt2.fun else opt2\n",
    "\n",
    "optimal_xs, optimal_ys, optimal_zs, optimal_azimuth, optimal_dip, optimal_length, optimal_width, optimal_opening  = opt.x\n",
    "\n",
    "print(f'Found WRMSE Global minimum {errfunc(opt.x)}')\n",
    "\n",
    "# calculate the predicted deformation due to the optimal solution found\n",
    "ux_, uy_, uz_ = okada(eastings, northings, elevations, \n",
    "                              optimal_xs, optimal_ys, optimal_zs, optimal_azimuth, optimal_dip, optimal_length, \n",
    "                              optimal_width, opening=optimal_opening)\n",
    "\n",
    "\n",
    "comparison = pd.DataFrame([[xs, ys, zs, azimuth, dip, length, width, opening], \n",
    "                           [optimal_xs, optimal_ys, optimal_zs, optimal_azimuth, optimal_dip, \n",
    "                            optimal_length, optimal_width, optimal_opening]], \n",
    "                          columns=['easting [m]','northing [m]','-depth [m]','azimuth [°]','dip [°]', \n",
    "                                   'length [m]','width [m]','opening [m]'])\n",
    "\n",
    "comparison.index = ['real','retrieved']"
   ]
  },
  {
   "cell_type": "markdown",
   "id": "acf1748c",
   "metadata": {
    "slideshow": {
     "slide_type": "fragment"
    }
   },
   "source": [
    "plot the fields and compare the solution with the real parameters"
   ]
  },
  {
   "cell_type": "code",
   "execution_count": null,
   "id": "c268937b",
   "metadata": {
    "scrolled": false,
    "slideshow": {
     "slide_type": "fragment"
    }
   },
   "outputs": [],
   "source": [
    "# Plot Real deformation field\n",
    "fig = plot3Dfield(ux, uy, uz, eastings, northings, elevations, color='black', arrow_tip_ratio = 0.2,\n",
    "                arrow_starting_ratio = 0.90)\n",
    "\n",
    "print(f'Maximum measured vector length {np.max(np.linalg.norm([ux.ravel(), uy.ravel(), uz.ravel()], axis=0)):0.3f} m')\n",
    "\n",
    "# Add the real point source\n",
    "fig.add_trace(go.Surface(x=ox, y=oy, z=oz,\n",
    "                         surfacecolor = ox*0,\n",
    "                         autocolorscale=False,\n",
    "                    name='real source', showscale=False))\n",
    "\n",
    "# Plot the model-predicted deformation field\n",
    "fig = plot3Dfield(ux_, uy_, uz_, eastings, northings, elevations, fig=fig, color='red', arrow_tip_ratio = 0.2,\n",
    "                arrow_starting_ratio = 0.90)\n",
    "\n",
    "print(f'Maximum predicted vector length {np.max(np.linalg.norm([ux_.ravel(), uy_.ravel(), uz_.ravel()], axis=0)):0.3f} m')\n",
    "\n",
    "ox_, oy_, oz_ = plotOkada(optimal_xs, optimal_ys, optimal_zs, optimal_azimuth, optimal_dip, optimal_length, optimal_width)\n",
    "\n",
    "# Add the real point source\n",
    "fig.add_trace(go.Surface(x=ox_, y=oy_, z=oz_,\n",
    "                         surfacecolor = ox*0+3,\n",
    "                         autocolorscale=False,\n",
    "                    name='estimated source', showscale=False))\n",
    "\n",
    "camera = dict(\n",
    "    up=dict(x=0, y=1., z=0),\n",
    "    eye=dict(x=0., y=0., z=1.5))\n",
    "\n",
    "fig.update_layout(\n",
    "    width=900, height=900, scene_camera=camera, title='Deformation Field')\n",
    "\n",
    "display(comparison)\n",
    "\n",
    "fig.show()"
   ]
  },
  {
   "cell_type": "markdown",
   "id": "06a381bc",
   "metadata": {
    "slideshow": {
     "slide_type": "subslide"
    }
   },
   "source": [
    "again, in real cases the number of GNSS-like measurements unfortunately is much lower ...\n",
    "\n",
    "let's cut some points in the data"
   ]
  },
  {
   "cell_type": "code",
   "execution_count": null,
   "id": "e3cd98c2",
   "metadata": {
    "scrolled": false,
    "slideshow": {
     "slide_type": "fragment"
    }
   },
   "outputs": [],
   "source": [
    "# number of stations we want to save\n",
    "nstations = 10\n",
    "\n",
    "idx = random.sample(list(range(np.size(noisy_ux))), nstations)\n",
    "few_noisy_ux = noisy_ux.ravel()[idx]\n",
    "few_noisy_uy = noisy_uy.ravel()[idx]\n",
    "few_noisy_uz = noisy_uz.ravel()[idx]\n",
    "few_eastings = eastings.ravel()[idx]\n",
    "few_northings = northings.ravel()[idx]\n",
    "few_elevations = elevations.ravel()[idx]"
   ]
  },
  {
   "cell_type": "markdown",
   "id": "8c094b1b",
   "metadata": {
    "slideshow": {
     "slide_type": "fragment"
    }
   },
   "source": [
    "same scheme for inversion, but now on smaller dataset"
   ]
  },
  {
   "cell_type": "code",
   "execution_count": null,
   "id": "071116cd",
   "metadata": {
    "scrolled": false,
    "slideshow": {
     "slide_type": "fragment"
    }
   },
   "outputs": [],
   "source": [
    "# Inversion\n",
    "# ----------------\n",
    "\n",
    "errfunc = lambda modelparams: wrmse(modelparams, few_eastings, few_northings, few_elevations, \n",
    "                                                             few_noisy_ux, few_noisy_uy, few_noisy_uz, nu=0.25)\n",
    "\n",
    "\n",
    "#          xs[m]      ys[m]    zs[m]   azimuth[°]    dip[°]  length[m]  width[m]  opening[m]\n",
    "lwbound = [xs-10000, ys-10000, -5000,    0,           0,     100,          100,       0]        \n",
    "upbound = [xs+10000, ys+10000,  -50,    360,          89.,   5000,         5000,      5]\n",
    "\n",
    "#                xs[m]      ys[m]    zs[m]   azi[°]    dip[°] len[m]  wid[m]  opening[m]\n",
    "initial_guess = [xs+1000,  ys-1000,     -500,   100,   85,   4000,    3000,     2]\n",
    "\n",
    "# Global heuristic optimization, 2-steps: global search + direct search\n",
    "first_guess = direct(errfunc, bounds=list(zip(lwbound, upbound)))\n",
    "\n",
    "# refinining two solutions\n",
    "opt1 = minimize(errfunc, first_guess.x, method='nelder-mead', bounds=list(zip(lwbound, upbound)))\n",
    "opt2 = minimize(errfunc, initial_guess, method='nelder-mead', bounds=list(zip(lwbound, upbound)))\n",
    "\n",
    "# choose the best result\n",
    "opt = opt1 if opt1.fun<opt2.fun else opt2\n",
    "\n",
    "optimal_xs, optimal_ys, optimal_zs, optimal_azimuth, optimal_dip, optimal_length, optimal_width, optimal_opening  = opt.x\n",
    "\n",
    "print(f'Found WRMSE Global minimum {errfunc(opt.x)}')\n",
    "\n",
    "ux_, uy_, uz_ = okada(few_eastings, few_northings, few_elevations, \n",
    "                              optimal_xs, optimal_ys, optimal_zs, optimal_azimuth, optimal_dip, optimal_length, \n",
    "                              optimal_width, opening=optimal_opening)\n",
    "\n",
    "\n",
    "comparison = pd.DataFrame([[xs, ys, zs, azimuth, dip, length, width, opening], \n",
    "                           [optimal_xs, optimal_ys, optimal_zs, optimal_azimuth, optimal_dip, optimal_length, optimal_width, optimal_opening]], \n",
    "                          columns=['easting [m]','northing [m]','-depth [m]','azimuth [°]','dip [°]', 'length [m]','width [m]','opening [m]'])\n",
    "comparison.index = ['real','retrieved']\n"
   ]
  },
  {
   "cell_type": "markdown",
   "id": "e3837409",
   "metadata": {
    "slideshow": {
     "slide_type": "fragment"
    }
   },
   "source": [
    "plot the results and compare the parameters"
   ]
  },
  {
   "cell_type": "code",
   "execution_count": null,
   "id": "d14f560a",
   "metadata": {
    "scrolled": false,
    "slideshow": {
     "slide_type": "fragment"
    }
   },
   "outputs": [],
   "source": [
    "# Plot Real deformation field\n",
    "fig = plot3Dfield(few_noisy_ux, few_noisy_uy, few_noisy_uz, few_eastings, few_northings, few_elevations, \n",
    "                  color='black', arrow_tip_ratio = 0.2,\n",
    "                  arrow_starting_ratio = 0.90)\n",
    "\n",
    "print(f'Maximum measured vector length {np.max(np.linalg.norm([few_noisy_ux.ravel(), few_noisy_uy.ravel(), few_noisy_uz.ravel()], axis=0)):0.3f} m')\n",
    "\n",
    "# Add the real point source\n",
    "fig.add_trace(go.Surface(x=ox, y=oy, z=oz,\n",
    "                         surfacecolor = ox*0,\n",
    "                         autocolorscale=False,\n",
    "                    name='real source', showscale=False))\n",
    "\n",
    "# Plot the model-predicted deformation field\n",
    "fig = plot3Dfield(ux_, uy_, uz_, few_eastings, few_northings, few_elevations, fig=fig, color='red', arrow_tip_ratio = 0.2,\n",
    "                arrow_starting_ratio = 0.90)\n",
    "\n",
    "ox_, oy_, oz_ = plotOkada(optimal_xs, optimal_ys, optimal_zs, optimal_azimuth, optimal_dip, optimal_length, optimal_width)\n",
    "\n",
    "print(f'Maximum predicted vector length {np.max(np.linalg.norm([ux_.ravel(), uy_.ravel(), uz_.ravel()], axis=0)):0.3f} m')\n",
    "\n",
    "# Add the real point source\n",
    "fig.add_trace(go.Surface(x=ox_, y=oy_, z=oz_,\n",
    "                         surfacecolor = ox*0+3,\n",
    "                         autocolorscale=False,\n",
    "                    name='estimated source', showscale=False))\n",
    "\n",
    "camera = dict(\n",
    "    up=dict(x=0, y=1., z=0),\n",
    "    eye=dict(x=0., y=0., z=1.5))\n",
    "\n",
    "fig.update_layout(\n",
    "    width=900, height=900, scene_camera=camera, title='Deformation Field'\n",
    ")\n",
    "\n",
    "display(comparison)\n",
    "\n",
    "fig.show()"
   ]
  },
  {
   "cell_type": "markdown",
   "id": "6d3334aa",
   "metadata": {
    "slideshow": {
     "slide_type": "subslide"
    }
   },
   "source": [
    " finally, now we only need to introduce uncertainty about the data"
   ]
  },
  {
   "cell_type": "code",
   "execution_count": null,
   "id": "64f926fa",
   "metadata": {
    "scrolled": false,
    "slideshow": {
     "slide_type": "fragment"
    }
   },
   "outputs": [],
   "source": [
    "# create false uncertainties but realistic as deviation from the nominal data\n",
    "\n",
    "eux = np.abs((few_noisy_ux - ux.ravel()[idx]))\n",
    "euy = np.abs((few_noisy_uy - uy.ravel()[idx]))\n",
    "euz = np.abs((few_noisy_uz - uz.ravel()[idx]))"
   ]
  },
  {
   "cell_type": "markdown",
   "id": "0033f669",
   "metadata": {
    "slideshow": {
     "slide_type": "fragment"
    }
   },
   "source": [
    " is it getting boring? we have to do the inversion again"
   ]
  },
  {
   "cell_type": "code",
   "execution_count": null,
   "id": "6e78427b",
   "metadata": {
    "scrolled": false,
    "slideshow": {
     "slide_type": "fragment"
    }
   },
   "outputs": [],
   "source": [
    "# Inversion\n",
    "# ----------------\n",
    "errfunc = lambda modelparams: wrmse(modelparams, few_eastings, few_northings, few_elevations, \n",
    "                                                            few_noisy_ux, few_noisy_uy, few_noisy_uz,\n",
    "                                                            eux=eux, euy=euy, euz=euz, nu=0.25)\n",
    "\n",
    "#          xs[m]      ys[m]    zs[m]   azimuth[°]    dip[°]  length[m]  width[m]  opening[m]\n",
    "lwbound = [xs-10000, ys-10000, -5000,    0,           0,     100,          100,       0]        \n",
    "upbound = [xs+10000, ys+10000,  -50,    360,          89.,   5000,         5000,      5]\n",
    "\n",
    "#                xs[m]      ys[m]    zs[m]   azi[°]    dip[°] len[m]  wid[m]  opening[m]\n",
    "initial_guess = [xs+1000,  ys-1000,     -500,   100,   85,   4000,    3000,     2]\n",
    "\n",
    "\n",
    "# Global heuristic optimization, 2-steps: global search + direct search\n",
    "first_guess = direct(errfunc, bounds=list(zip(lwbound, upbound)))\n",
    "\n",
    "# refinining two solutions\n",
    "opt1 = minimize(errfunc, first_guess.x, method='nelder-mead', bounds=list(zip(lwbound, upbound)))\n",
    "opt2 = minimize(errfunc, initial_guess, method='nelder-mead', bounds=list(zip(lwbound, upbound)))\n",
    "\n",
    "# choose the best result\n",
    "opt = opt1 if opt1.fun<opt2.fun else opt2\n",
    "\n",
    "optimal_xs, optimal_ys, optimal_zs, optimal_azimuth, optimal_dip, optimal_length, optimal_width, optimal_opening  = opt.x\n",
    "\n",
    "print(f'Found WRMSE Global minimum {errfunc(opt.x)}')\n",
    "\n",
    "ux_, uy_, uz_ = okada(few_eastings, few_northings, few_elevations, \n",
    "                              optimal_xs, optimal_ys, optimal_zs, optimal_azimuth, optimal_dip, optimal_length, \n",
    "                              optimal_width, opening=optimal_opening)\n",
    "\n",
    "\n",
    "comparison = pd.DataFrame([[xs, ys, zs, azimuth, dip, length, width, opening], \n",
    "                           [optimal_xs, optimal_ys, optimal_zs, optimal_azimuth, optimal_dip, optimal_length, optimal_width, optimal_opening]], \n",
    "                          columns=['easting [m]','northing [m]','-depth [m]','azimuth [°]','dip [°]', 'length [m]','width [m]','opening [m]'])\n",
    "comparison.index = ['real','retrieved']"
   ]
  },
  {
   "cell_type": "markdown",
   "id": "bb96911a",
   "metadata": {
    "slideshow": {
     "slide_type": "fragment"
    }
   },
   "source": [
    "and plot + compare the results"
   ]
  },
  {
   "cell_type": "code",
   "execution_count": null,
   "id": "7af7b923",
   "metadata": {
    "scrolled": false,
    "slideshow": {
     "slide_type": "fragment"
    }
   },
   "outputs": [],
   "source": [
    "# Plot Real deformation field\n",
    "fig = plot3Dfield(few_noisy_ux, few_noisy_uy, few_noisy_uz, few_eastings, few_northings, few_elevations, \n",
    "                  color='black', arrow_tip_ratio = 0.2,\n",
    "                  arrow_starting_ratio = 0.90)\n",
    "\n",
    "print(f'Maximum measured vector length {np.max(np.linalg.norm([few_noisy_ux.ravel(), few_noisy_uy.ravel(), few_noisy_uz.ravel()], axis=0)):0.3f} m')\n",
    "\n",
    "# Add the real point source\n",
    "fig.add_trace(go.Surface(x=ox, y=oy, z=oz,\n",
    "                         surfacecolor = ox*0,\n",
    "                         autocolorscale=False,\n",
    "                    name='real source', showscale=False))\n",
    "\n",
    "\n",
    "# Plot the model-predicted deformation field\n",
    "fig = plot3Dfield(ux_, uy_, uz_, few_eastings, few_northings, few_elevations, fig=fig, color='red', arrow_tip_ratio = 0.2,\n",
    "                arrow_starting_ratio = 0.90)\n",
    "\n",
    "print(f'Maximum predicted vector length {np.max(np.linalg.norm([ux_.ravel(), uy_.ravel(), uz_.ravel()], axis=0)):0.3f} m')\n",
    "\n",
    "ox_, oy_, oz_ = plotOkada(optimal_xs, optimal_ys, optimal_zs, optimal_azimuth, optimal_dip, optimal_length, optimal_width)\n",
    "\n",
    "# Add the real point source\n",
    "fig.add_trace(go.Surface(x=ox_, y=oy_, z=oz_,\n",
    "                         surfacecolor = ox*0+3,\n",
    "                         autocolorscale=False,\n",
    "                    name='estimated source', showscale=False))\n",
    "\n",
    "camera = dict(\n",
    "    up=dict(x=0, y=1., z=0),\n",
    "    eye=dict(x=0., y=0., z=1.5))\n",
    "\n",
    "fig.update_layout(\n",
    "    width=900, height=900, scene_camera=camera, title='Deformation Field')\n",
    "\n",
    "display(comparison)\n",
    "\n",
    "fig.show()"
   ]
  },
  {
   "cell_type": "markdown",
   "id": "684eee8a",
   "metadata": {
    "slideshow": {
     "slide_type": "slide"
    }
   },
   "source": [
    "# We are done!\n",
    "\n",
    "Thank you "
   ]
  },
  {
   "cell_type": "markdown",
   "id": "3d7f731f",
   "metadata": {
    "slideshow": {
     "slide_type": "slide"
    }
   },
   "source": [
    "# INVERSION SCHEME\n",
    "\n"
   ]
  },
  {
   "cell_type": "code",
   "execution_count": null,
   "id": "762110d8",
   "metadata": {
    "slideshow": {
     "slide_type": "fragment"
    }
   },
   "outputs": [],
   "source": [
    "# Inversion\n",
    "# ----------------\n",
    "\n",
    "# for all the stations define locations and measurements:\n",
    "\n",
    "station_eastings = np.array([100, 200, 300, 400])\n",
    "station_northings = np.array([100, 200, 300, 400])\n",
    "station_elevations = np.array([100, 200, 300, 400])\n",
    "\n",
    "station_ux = np.array([0.1, 0.2, 0.3, 0.4])\n",
    "station_uy = np.array([0.1, 0.2, 0.3, 0.4])\n",
    "station_uz = np.array([0.1, 0.2, 0.3, 0.4])\n",
    "\n",
    "eux = np.array([0.1, 0.2, 0.3, 0.4])\n",
    "euy = np.array([0.1, 0.2, 0.3, 0.4])\n",
    "euz = np.array([0.1, 0.2, 0.3, 0.4])\n",
    "\n",
    "\n",
    "# define the misfit function DEPENDING ON THE MODEL SOURCE!!!\n",
    "errfunc = lambda modelparams: wrmse(modelparams, station_eastings, station_northings, station_elevations, \n",
    "                                                            station_ux, station_uy, station_uz,\n",
    "                                                            eux=eux, euy=euy, euz=euz, nu=0.25)\n",
    "\n",
    "# define the constraints DEPENDING ON THE MODEL SOURCE!!!\n",
    "#          xs[m]      ys[m]    zs[m]   azimuth[°]    dip[°]  length[m]  width[m]  opening[m]\n",
    "lwbound = [xs-10000, ys-10000, -5000,    0,           0,     100,          100,       0]        \n",
    "upbound = [xs+10000, ys+10000,  -50,    360,          89.,   5000,         5000,      5]\n",
    "\n",
    "# define the first gues of the parameters DEPENDING ON THE MODEL SOURCE!!!\n",
    "#                xs[m]      ys[m]    zs[m]   azi[°]    dip[°] len[m]  wid[m]  opening[m]\n",
    "initial_guess = [xs+1000,  ys-1000,     -500,   100,   85,   4000,    3000,     2]\n",
    "\n",
    "\n",
    "# Global heuristic optimization, 2-steps: global search + direct search\n",
    "first_guess = direct(errfunc, bounds=list(zip(lwbound, upbound)))\n",
    "\n",
    "# refinining two solutions\n",
    "opt1 = minimize(errfunc, first_guess.x, method='nelder-mead', bounds=list(zip(lwbound, upbound)))\n",
    "opt2 = minimize(errfunc, initial_guess, method='nelder-mead', bounds=list(zip(lwbound, upbound)))\n",
    "\n",
    "# choose the best result\n",
    "opt = opt1 if opt1.fun<opt2.fun else opt2\n",
    "\n",
    "optimal_xs, optimal_ys, optimal_zs, optimal_azimuth, optimal_dip, optimal_length, optimal_width, optimal_opening  = opt.x\n",
    "\n",
    "print(f'Found WRMSE Global minimum {errfunc(opt.x)}')\n",
    "\n",
    "# calculate the model prediction DEPENDING ON THE MODEL SOURCE!!!\n",
    "ux_, uy_, uz_ = okada(few_eastings, few_northings, few_elevations, \n",
    "                              optimal_xs, optimal_ys, optimal_zs, optimal_azimuth, optimal_dip, optimal_length, \n",
    "                              optimal_width, opening=optimal_opening)\n",
    "\n",
    "\n",
    "comparison = pd.DataFrame([[xs, ys, zs, azimuth, dip, length, width, opening], \n",
    "                           [optimal_xs, optimal_ys, optimal_zs, optimal_azimuth, optimal_dip, optimal_length, optimal_width, optimal_opening]], \n",
    "                          columns=['easting [m]','northing [m]','-depth [m]','azimuth [°]','dip [°]', 'length [m]','width [m]','opening [m]'])\n",
    "comparison.index = ['real','retrieved']\n",
    "\n",
    "\n",
    "# Plot Real deformation field\n",
    "fig = plot3Dfield(station_ux, station_uy, station_uz, station_eastings, station_northings, station_elevations, \n",
    "                  color='black', arrow_tip_ratio = 0.2,\n",
    "                  arrow_starting_ratio = 0.90)\n",
    "\n",
    "print(f'Maximum measured vector length {np.max(np.linalg.norm([station_ux.ravel(), station_uy.ravel(), station_uz.ravel()], axis=0)):0.3f} m')\n",
    "\n",
    "# Add the real point source DEPENDING ON THE MODEL SOURCE!!!\n",
    "fig.add_trace(go.Surface(x=ox, y=oy, z=oz,\n",
    "                         surfacecolor = ox*0,\n",
    "                         autocolorscale=False,\n",
    "                    name='real source', showscale=False))\n",
    "\n",
    "\n",
    "# Plot the model-predicted deformation field\n",
    "fig = plot3Dfield(ux_, uy_, uz_, station_eastings, station_northings, station_elevations, fig=fig, color='red', arrow_tip_ratio = 0.2,\n",
    "                arrow_starting_ratio = 0.90)\n",
    "\n",
    "print(f'Maximum predicted vector length {np.max(np.linalg.norm([ux_.ravel(), uy_.ravel(), uz_.ravel()], axis=0)):0.3f} m')\n",
    "\n",
    "# plot the source \n",
    "ox_, oy_, oz_ = plotOkada(optimal_xs, optimal_ys, optimal_zs, optimal_azimuth, optimal_dip, optimal_length, optimal_width)\n",
    "\n",
    "# Add the real point source DEPENDING ON THE MODEL SOURCE!!!\n",
    "fig.add_trace(go.Surface(x=ox_, y=oy_, z=oz_,\n",
    "                         surfacecolor = ox*0+3,\n",
    "                         autocolorscale=False,\n",
    "                    name='estimated source', showscale=False))\n",
    "\n",
    "camera = dict(\n",
    "    up=dict(x=0, y=1., z=0),\n",
    "    eye=dict(x=0., y=0., z=1.5))\n",
    "\n",
    "fig.update_layout(\n",
    "    width=900, height=900, scene_camera=camera, title='Deformation Field')\n",
    "\n",
    "display(comparison)\n",
    "\n",
    "fig.show()"
   ]
  }
 ],
 "metadata": {
  "kernelspec": {
   "display_name": "Python 3 (ipykernel)",
   "language": "python",
   "name": "python3"
  },
  "language_info": {
   "codemirror_mode": {
    "name": "ipython",
    "version": 3
   },
   "file_extension": ".py",
   "mimetype": "text/x-python",
   "name": "python",
   "nbconvert_exporter": "python",
   "pygments_lexer": "ipython3",
   "version": "3.11.4"
  }
 },
 "nbformat": 4,
 "nbformat_minor": 5
}
